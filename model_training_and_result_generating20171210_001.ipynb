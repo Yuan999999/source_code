{
 "cells": [
  {
   "cell_type": "markdown",
   "metadata": {},
   "source": [
    "# Pretrained Vectors - Neural Network Classifier\n",
    "\n",
    "In this notebook, we try various merging strategies to merge the vectors for image pair inputs and try to predict similarity using a fully connected neural network front end."
   ]
  },
  {
   "cell_type": "code",
   "execution_count": 1,
   "metadata": {},
   "outputs": [
    {
     "name": "stderr",
     "output_type": "stream",
     "text": [
      "Using TensorFlow backend.\n"
     ]
    }
   ],
   "source": [
    "from __future__ import division, print_function\n",
    "from keras import backend as K\n",
    "from keras import optimizers\n",
    "from keras.layers import Input\n",
    "from keras.callbacks import ModelCheckpoint\n",
    "from keras.layers.core import Activation, Dense, Dropout, Lambda\n",
    "from keras.layers.merge import Concatenate\n",
    "from keras.models import Model, load_model\n",
    "from keras.utils import np_utils\n",
    "from sklearn.metrics import accuracy_score, confusion_matrix, classification_report\n",
    "from scipy import spatial\n",
    "\n",
    "import itertools\n",
    "import matplotlib.pyplot as plt\n",
    "import numpy as np\n",
    "import os\n",
    "%matplotlib inline"
   ]
  },
  {
   "cell_type": "code",
   "execution_count": 2,
   "metadata": {},
   "outputs": [],
   "source": [
    "DATA_DIR = \"/\"\n",
    "IMAGE_DIR = os.path.join(DATA_DIR, \"images_after_crop\")\n",
    "TEST_B_DIR = os.path.join(DATA_DIR, \"pigtest_b\")\n",
    "\n",
    "BATCH_SIZE = 32\n",
    "NUM_EPOCHS = 20"
   ]
  },
  {
   "cell_type": "code",
   "execution_count": 3,
   "metadata": {},
   "outputs": [],
   "source": [
    "VECTOR_SIZE = 2048\n",
    "VECTOR_FILE = os.path.join(\"/vector_data/\", \"resnet-vectors-cropped-images.tsv\")\n",
    "VECTOR_FILE_TEST_B = os.path.join(\"/vector_data/\", \"resnet-vectors-test-b.tsv\")"
   ]
  },
  {
   "cell_type": "code",
   "execution_count": 4,
   "metadata": {},
   "outputs": [],
   "source": [
    "def get_test_b_triples(image_dir, test_b_dir):\n",
    "    test_b_triples = []\n",
    "    image_names_rev = [x for x in os.listdir(image_dir) if not (x.startswith('.'))]\n",
    "    test_b_names = [x for x in os.listdir(test_b_dir) if not (x.startswith('.'))]\n",
    "    for test_b_name in test_b_names:\n",
    "        for image_name in image_names_rev:\n",
    "            test_b_triples.append((test_b_name, image_name, 0))\n",
    "    return test_b_triples"
   ]
  },
  {
   "cell_type": "code",
   "execution_count": 71,
   "metadata": {},
   "outputs": [],
   "source": [
    "def get_pig_triples_new(image_dir):\n",
    "    image_groups = {}\n",
    "    image_names_rev = [x for x in os.listdir(image_dir) if not (x.startswith('.'))]\n",
    "    for image_name in image_names_rev:\n",
    "        base_name = image_name[0:-6]\n",
    "        group_name = base_name[0:2]\n",
    "        if image_groups.has_key(group_name):\n",
    "            image_groups[group_name].append(image_name)\n",
    "        else:\n",
    "            image_groups[group_name] = [image_name]\n",
    "    num_sims = 0\n",
    "    num_difs = 0\n",
    "    image_triples = []\n",
    "    group_list = sorted(list(image_groups.keys()))\n",
    "    for i, g in enumerate(group_list):\n",
    "        if num_sims % 100 == 0:\n",
    "            print(\"Generated {:d} pos + {:d} neg = {:d} total image triples\" \n",
    "                  .format(num_sims, num_sims, 2*num_sims))\n",
    "        images_in_group = image_groups[g]\n",
    "        #sim_pairs_it = ((images_in_group[1],images_in_group[2]),(images_in_group[2],images_in_group[4]))\n",
    "        sim_pairs_it = itertools.combinations(images_in_group, 2)\n",
    "        # for each similar pair, generate a corresponding different pair\n",
    "        for ref_image, sim_image in sim_pairs_it:\n",
    "            image_triples.append((ref_image, sim_image, 1))\n",
    "            num_sims += 1\n",
    "            for j, h in enumerate(group_list):\n",
    "                if j !=i:\n",
    "                    dif_image_candidates = image_groups[group_list[j]]\n",
    "                    for x in range(0,2):\n",
    "                        k = np.random.randint(low=0, high=len(dif_image_candidates), size=1)[0]\n",
    "                        dif_image = dif_image_candidates[k]\n",
    "                        image_triples.append((ref_image, dif_image, 0))\n",
    "                        num_difs += 1\n",
    "                        if num_sims % 1000000 == 0:\n",
    "                            print(\"Generated {:d} pos + {:d} neg = {:d} total image triples\"\n",
    "                            .format(num_sims, num_sims, 2*num_sims))\n",
    "                else:\n",
    "                    break \n",
    "    \n",
    "    np.random.shuffle(image_triples)\n",
    "    #print(image_triples)\n",
    "    print(num_sims)\n",
    "    print(num_difs)\n",
    "    return image_triples\n",
    "\n",
    "    "
   ]
  },
  {
   "cell_type": "code",
   "execution_count": 72,
   "metadata": {},
   "outputs": [
    {
     "name": "stdout",
     "output_type": "stream",
     "text": [
      "Generated 0 pos + 0 neg = 0 total image triples\n",
      "60376\n",
      "1769952\n"
     ]
    }
   ],
   "source": [
    "image_triples = get_pig_triples_new(IMAGE_DIR)"
   ]
  },
  {
   "cell_type": "code",
   "execution_count": 73,
   "metadata": {},
   "outputs": [
    {
     "name": "stdout",
     "output_type": "stream",
     "text": [
      "1830328\n"
     ]
    }
   ],
   "source": [
    "print(len(image_triples))"
   ]
  },
  {
   "cell_type": "code",
   "execution_count": 74,
   "metadata": {},
   "outputs": [],
   "source": [
    "def load_vectors(vector_file):\n",
    "    vec_dict = {}\n",
    "    fvec = open(vector_file, \"rb\")\n",
    "    for line in fvec:\n",
    "        image_name, image_vec = line.strip().split(\"\\t\")\n",
    "        vec = np.array([float(v) for v in image_vec.split(\",\")])\n",
    "        vec_dict[image_name] = vec\n",
    "    fvec.close()\n",
    "    return vec_dict\n",
    "\n",
    "def train_test_split(triples, splits):\n",
    "    assert sum(splits) == 1.0\n",
    "    split_pts = np.cumsum(np.array([0.] + splits))\n",
    "    indices = np.random.permutation(np.arange(len(triples)))\n",
    "    shuffled_triples = [triples[i] for i in indices]\n",
    "    data_splits = []\n",
    "    for sid in range(len(splits)):\n",
    "        start = int(split_pts[sid] * len(triples))\n",
    "        end = int(split_pts[sid + 1] * len(triples))\n",
    "        data_splits.append(shuffled_triples[start:end])\n",
    "    return data_splits\n",
    "\n",
    "def batch_to_vectors(batch, vec_size, vec_dict):\n",
    "    X1 = np.zeros((len(batch), vec_size))\n",
    "    X2 = np.zeros((len(batch), vec_size))\n",
    "    Y = np.zeros((len(batch), 2))\n",
    "    for tid in range(len(batch)):\n",
    "        X1[tid] = vec_dict[batch[tid][0]]\n",
    "        X2[tid] = vec_dict[batch[tid][1]]\n",
    "        Y[tid] = [1, 0] if batch[tid][2] == 0 else [0, 1]\n",
    "    return ([X1, X2], Y)\n",
    "\n",
    "    \n",
    "def data_generator(triples, vec_size, vec_dict, batch_size=32):\n",
    "    while True:\n",
    "        # shuffle once per batch\n",
    "        indices = np.random.permutation(np.arange(len(triples)))\n",
    "        num_batches = len(triples) // batch_size\n",
    "        for bid in range(num_batches):\n",
    "            batch_indices = indices[bid * batch_size : (bid + 1) * batch_size]\n",
    "            batch = [triples[i] for i in batch_indices]\n",
    "            yield batch_to_vectors(batch, vec_size, vec_dict)\n",
    "\n",
    "\n",
    "def evaluate_model(model_file, test_gen):\n",
    "    model_name = os.path.basename(model_file)\n",
    "    model = load_model(model_file)\n",
    "    print(\"=== Evaluating model: {:s} ===\".format(model_name))\n",
    "    ytrue, ypred = [], []\n",
    "    num_test_steps = len(test_triples) // BATCH_SIZE\n",
    "    for i in range(num_test_steps):\n",
    "        (X1, X2), Y = test_gen.next()\n",
    "        Y_ = model.predict([X1, X2])\n",
    "        ytrue.extend(np.argmax(Y, axis=1).tolist())\n",
    "        ypred.extend(np.argmax(Y_, axis=1).tolist())\n",
    "    accuracy = accuracy_score(ytrue, ypred)\n",
    "    print(\"\\nAccuracy: {:.3f}\".format(accuracy))\n",
    "    print(\"\\nConfusion Matrix\")\n",
    "    print(confusion_matrix(ytrue, ypred))\n",
    "    print(\"\\nClassification Report\")\n",
    "    print(classification_report(ytrue, ypred))\n",
    "    return accuracy\n",
    "\n",
    "def get_model_file(data_dir, vector_name, merge_mode, borf):\n",
    "    return os.path.join(data_dir, \"{:s}-{:s}-{:s}.h5\"\n",
    "                        .format(vector_name, merge_mode, borf))"
   ]
  },
  {
   "cell_type": "code",
   "execution_count": 75,
   "metadata": {},
   "outputs": [],
   "source": [
    "def image_triple_generator(image_triples, batch_size):\n",
    "    while True:\n",
    "        # loop once per epoch\n",
    "        num_recs = len(image_triples)\n",
    "        #indices = np.random.permutation(np.arange(num_recs))\n",
    "        indices = np.arange(num_recs)\n",
    "        num_batches = num_recs // batch_size\n",
    "        for bid in range(num_batches):\n",
    "            # loop once per batch\n",
    "            batch_indices = indices[bid * batch_size : (bid + 1) * batch_size]\n",
    "            yield [image_triples[i] for i in batch_indices]"
   ]
  },
  {
   "cell_type": "code",
   "execution_count": 76,
   "metadata": {},
   "outputs": [],
   "source": [
    "vec_dict = load_vectors(VECTOR_FILE)\n",
    "vec_dict_test_b = load_vectors(VECTOR_FILE_TEST_B)"
   ]
  },
  {
   "cell_type": "code",
   "execution_count": 77,
   "metadata": {},
   "outputs": [
    {
     "data": {
      "text/plain": [
       "[('03frame11_c.jpg', '02frame13_c.jpg', 0),\n",
       " ('29frame34_c.jpg', '17frame47_c.jpg', 0),\n",
       " ('21frame52_c.jpg', '20frame31_c.jpg', 0),\n",
       " ('20frame34_c.jpg', '07frame57_c.jpg', 0),\n",
       " ('05frame50_c.jpg', '04frame9_c.jpg', 0),\n",
       " ('15frame46_c.jpg', '10frame64_c.jpg', 0),\n",
       " ('07frame18_c.jpg', '01frame63_c.jpg', 0),\n",
       " ('04frame39_c.jpg', '01frame51_c.jpg', 0),\n",
       " ('13frame25_c.jpg', '06frame21_c.jpg', 0),\n",
       " ('15frame53_c.jpg', '09frame28_c.jpg', 0),\n",
       " ('27frame1_c.jpg', '09frame35_c.jpg', 0),\n",
       " ('28frame57_c.jpg', '15frame59_c.jpg', 0),\n",
       " ('15frame58_c.jpg', '08frame43_c.jpg', 0),\n",
       " ('24frame35_c.jpg', '18frame5_c.jpg', 0),\n",
       " ('16frame61_c.jpg', '16frame33_c.jpg', 1),\n",
       " ('27frame22_c.jpg', '01frame34_c.jpg', 0),\n",
       " ('20frame5_c.jpg', '16frame21_c.jpg', 0),\n",
       " ('04frame16_c.jpg', '04frame14_c.jpg', 1),\n",
       " ('08frame61_c.jpg', '05frame56_c.jpg', 0),\n",
       " ('28frame13_c.jpg', '09frame6_c.jpg', 0),\n",
       " ('03frame20_c.jpg', '01frame35_c.jpg', 0),\n",
       " ('06frame12_c.jpg', '04frame61_c.jpg', 0),\n",
       " ('16frame31_c.jpg', '02frame59_c.jpg', 0),\n",
       " ('20frame50_c.jpg', '14frame38_c.jpg', 0),\n",
       " ('19frame35_c.jpg', '02frame56_c.jpg', 0),\n",
       " ('08frame53_c.jpg', '03frame40_c.jpg', 0),\n",
       " ('08frame14_c.jpg', '01frame34_c.jpg', 0),\n",
       " ('13frame5_c.jpg', '02frame55_c.jpg', 0),\n",
       " ('24frame33_c.jpg', '12frame51_c.jpg', 0),\n",
       " ('17frame46_c.jpg', '12frame63_c.jpg', 0),\n",
       " ('28frame50_c.jpg', '18frame39_c.jpg', 0),\n",
       " ('20frame46_c.jpg', '15frame48_c.jpg', 0),\n",
       " ('20frame41_c.jpg', '07frame9_c.jpg', 0),\n",
       " ('12frame58_c.jpg', '08frame42_c.jpg', 0),\n",
       " ('26frame64_c.jpg', '23frame49_c.jpg', 0),\n",
       " ('28frame25_c.jpg', '12frame0_c.jpg', 0),\n",
       " ('26frame34_c.jpg', '01frame64_c.jpg', 0),\n",
       " ('23frame35_c.jpg', '23frame9_c.jpg', 1),\n",
       " ('29frame19_c.jpg', '26frame23_c.jpg', 0),\n",
       " ('25frame34_c.jpg', '13frame63_c.jpg', 0),\n",
       " ('24frame20_c.jpg', '19frame24_c.jpg', 0),\n",
       " ('26frame0_c.jpg', '12frame31_c.jpg', 0),\n",
       " ('21frame0_c.jpg', '16frame13_c.jpg', 0),\n",
       " ('21frame2_c.jpg', '07frame55_c.jpg', 0),\n",
       " ('23frame21_c.jpg', '06frame2_c.jpg', 0),\n",
       " ('29frame57_c.jpg', '29frame4_c.jpg', 1),\n",
       " ('09frame60_c.jpg', '01frame25_c.jpg', 0),\n",
       " ('26frame52_c.jpg', '04frame12_c.jpg', 0),\n",
       " ('28frame34_c.jpg', '15frame64_c.jpg', 0),\n",
       " ('05frame63_c.jpg', '02frame60_c.jpg', 0),\n",
       " ('17frame56_c.jpg', '05frame39_c.jpg', 0),\n",
       " ('21frame3_c.jpg', '08frame24_c.jpg', 0),\n",
       " ('26frame4_c.jpg', '16frame49_c.jpg', 0),\n",
       " ('13frame3_c.jpg', '06frame36_c.jpg', 0),\n",
       " ('07frame26_c.jpg', '03frame62_c.jpg', 0),\n",
       " ('23frame52_c.jpg', '04frame62_c.jpg', 0),\n",
       " ('04frame22_c.jpg', '01frame44_c.jpg', 0),\n",
       " ('18frame21_c.jpg', '03frame44_c.jpg', 0),\n",
       " ('28frame15_c.jpg', '03frame2_c.jpg', 0),\n",
       " ('17frame56_c.jpg', '10frame17_c.jpg', 0),\n",
       " ('27frame55_c.jpg', '14frame42_c.jpg', 0),\n",
       " ('30frame51_c.jpg', '22frame40_c.jpg', 0),\n",
       " ('23frame28_c.jpg', '20frame38_c.jpg', 0),\n",
       " ('22frame49_c.jpg', '13frame34_c.jpg', 0),\n",
       " ('23frame25_c.jpg', '01frame22_c.jpg', 0),\n",
       " ('29frame34_c.jpg', '14frame19_c.jpg', 0),\n",
       " ('22frame53_c.jpg', '02frame61_c.jpg', 0),\n",
       " ('14frame35_c.jpg', '01frame24_c.jpg', 0),\n",
       " ('10frame58_c.jpg', '10frame33_c.jpg', 1),\n",
       " ('30frame2_c.jpg', '21frame36_c.jpg', 0),\n",
       " ('25frame21_c.jpg', '06frame4_c.jpg', 0),\n",
       " ('24frame48_c.jpg', '10frame14_c.jpg', 0),\n",
       " ('30frame54_c.jpg', '04frame9_c.jpg', 0),\n",
       " ('25frame2_c.jpg', '23frame42_c.jpg', 0),\n",
       " ('19frame46_c.jpg', '18frame7_c.jpg', 0),\n",
       " ('16frame2_c.jpg', '12frame9_c.jpg', 0),\n",
       " ('19frame15_c.jpg', '07frame53_c.jpg', 0),\n",
       " ('15frame41_c.jpg', '09frame38_c.jpg', 0),\n",
       " ('22frame31_c.jpg', '06frame26_c.jpg', 0),\n",
       " ('23frame41_c.jpg', '11frame8_c.jpg', 0),\n",
       " ('27frame64_c.jpg', '01frame53_c.jpg', 0),\n",
       " ('30frame11_c.jpg', '14frame61_c.jpg', 0),\n",
       " ('24frame50_c.jpg', '06frame39_c.jpg', 0),\n",
       " ('13frame52_c.jpg', '10frame2_c.jpg', 0),\n",
       " ('12frame49_c.jpg', '04frame43_c.jpg', 0),\n",
       " ('11frame3_c.jpg', '07frame34_c.jpg', 0),\n",
       " ('27frame17_c.jpg', '15frame54_c.jpg', 0),\n",
       " ('23frame2_c.jpg', '05frame8_c.jpg', 0),\n",
       " ('23frame36_c.jpg', '08frame38_c.jpg', 0),\n",
       " ('22frame55_c.jpg', '05frame61_c.jpg', 0),\n",
       " ('16frame38_c.jpg', '10frame45_c.jpg', 0),\n",
       " ('23frame48_c.jpg', '20frame31_c.jpg', 0),\n",
       " ('24frame33_c.jpg', '03frame20_c.jpg', 0),\n",
       " ('23frame14_c.jpg', '11frame50_c.jpg', 0),\n",
       " ('23frame55_c.jpg', '11frame49_c.jpg', 0),\n",
       " ('30frame15_c.jpg', '05frame38_c.jpg', 0),\n",
       " ('18frame11_c.jpg', '16frame38_c.jpg', 0),\n",
       " ('26frame61_c.jpg', '07frame15_c.jpg', 0),\n",
       " ('22frame20_c.jpg', '19frame44_c.jpg', 0),\n",
       " ('22frame2_c.jpg', '18frame8_c.jpg', 0)]"
      ]
     },
     "execution_count": 77,
     "metadata": {},
     "output_type": "execute_result"
    }
   ],
   "source": [
    "triples_batch_gen = image_triple_generator(image_triples, 100)\n",
    "triples_batch_gen.next()"
   ]
  },
  {
   "cell_type": "code",
   "execution_count": 78,
   "metadata": {},
   "outputs": [
    {
     "data": {
      "text/plain": [
       "[('17frame61_c.jpg', '07frame42_c.jpg', 0),\n",
       " ('27frame17_c.jpg', '02frame58_c.jpg', 0),\n",
       " ('21frame12_c.jpg', '15frame3_c.jpg', 0),\n",
       " ('09frame60_c.jpg', '07frame16_c.jpg', 0),\n",
       " ('19frame13_c.jpg', '16frame7_c.jpg', 0),\n",
       " ('21frame45_c.jpg', '21frame63_c.jpg', 1),\n",
       " ('17frame29_c.jpg', '14frame18_c.jpg', 0),\n",
       " ('18frame8_c.jpg', '09frame29_c.jpg', 0),\n",
       " ('20frame50_c.jpg', '02frame35_c.jpg', 0),\n",
       " ('19frame49_c.jpg', '14frame32_c.jpg', 0),\n",
       " ('24frame6_c.jpg', '22frame28_c.jpg', 0),\n",
       " ('22frame6_c.jpg', '18frame18_c.jpg', 0),\n",
       " ('23frame26_c.jpg', '04frame33_c.jpg', 0),\n",
       " ('10frame23_c.jpg', '01frame29_c.jpg', 0),\n",
       " ('19frame31_c.jpg', '13frame17_c.jpg', 0),\n",
       " ('27frame47_c.jpg', '10frame35_c.jpg', 0),\n",
       " ('29frame59_c.jpg', '03frame15_c.jpg', 0),\n",
       " ('17frame61_c.jpg', '14frame37_c.jpg', 0),\n",
       " ('22frame59_c.jpg', '05frame48_c.jpg', 0),\n",
       " ('22frame40_c.jpg', '10frame32_c.jpg', 0),\n",
       " ('06frame58_c.jpg', '05frame24_c.jpg', 0),\n",
       " ('20frame51_c.jpg', '10frame62_c.jpg', 0),\n",
       " ('24frame18_c.jpg', '22frame2_c.jpg', 0),\n",
       " ('18frame57_c.jpg', '01frame41_c.jpg', 0),\n",
       " ('16frame5_c.jpg', '02frame22_c.jpg', 0),\n",
       " ('08frame12_c.jpg', '05frame57_c.jpg', 0),\n",
       " ('12frame5_c.jpg', '02frame62_c.jpg', 0),\n",
       " ('17frame63_c.jpg', '09frame13_c.jpg', 0),\n",
       " ('29frame53_c.jpg', '14frame2_c.jpg', 0),\n",
       " ('16frame39_c.jpg', '08frame31_c.jpg', 0),\n",
       " ('22frame21_c.jpg', '14frame61_c.jpg', 0),\n",
       " ('23frame22_c.jpg', '19frame63_c.jpg', 0),\n",
       " ('28frame25_c.jpg', '22frame6_c.jpg', 0),\n",
       " ('28frame37_c.jpg', '23frame12_c.jpg', 0),\n",
       " ('10frame52_c.jpg', '07frame36_c.jpg', 0),\n",
       " ('28frame53_c.jpg', '06frame14_c.jpg', 0),\n",
       " ('25frame24_c.jpg', '05frame41_c.jpg', 0),\n",
       " ('18frame6_c.jpg', '14frame2_c.jpg', 0),\n",
       " ('29frame27_c.jpg', '16frame15_c.jpg', 0),\n",
       " ('13frame16_c.jpg', '01frame30_c.jpg', 0),\n",
       " ('28frame59_c.jpg', '24frame34_c.jpg', 0),\n",
       " ('23frame13_c.jpg', '05frame61_c.jpg', 0),\n",
       " ('23frame54_c.jpg', '10frame52_c.jpg', 0),\n",
       " ('15frame18_c.jpg', '15frame56_c.jpg', 1),\n",
       " ('16frame34_c.jpg', '06frame43_c.jpg', 0),\n",
       " ('27frame63_c.jpg', '08frame56_c.jpg', 0),\n",
       " ('26frame64_c.jpg', '21frame50_c.jpg', 0),\n",
       " ('28frame56_c.jpg', '08frame9_c.jpg', 0),\n",
       " ('26frame23_c.jpg', '18frame3_c.jpg', 0),\n",
       " ('21frame39_c.jpg', '16frame32_c.jpg', 0),\n",
       " ('17frame8_c.jpg', '03frame23_c.jpg', 0),\n",
       " ('14frame40_c.jpg', '02frame64_c.jpg', 0),\n",
       " ('28frame3_c.jpg', '02frame45_c.jpg', 0),\n",
       " ('13frame25_c.jpg', '08frame37_c.jpg', 0),\n",
       " ('07frame53_c.jpg', '07frame28_c.jpg', 1),\n",
       " ('06frame46_c.jpg', '05frame23_c.jpg', 0),\n",
       " ('10frame58_c.jpg', '09frame31_c.jpg', 0),\n",
       " ('20frame12_c.jpg', '11frame18_c.jpg', 0),\n",
       " ('12frame61_c.jpg', '05frame20_c.jpg', 0),\n",
       " ('13frame3_c.jpg', '11frame2_c.jpg', 0),\n",
       " ('04frame58_c.jpg', '02frame61_c.jpg', 0),\n",
       " ('30frame45_c.jpg', '29frame42_c.jpg', 0),\n",
       " ('25frame44_c.jpg', '13frame15_c.jpg', 0),\n",
       " ('13frame10_c.jpg', '01frame23_c.jpg', 0),\n",
       " ('26frame3_c.jpg', '22frame7_c.jpg', 0),\n",
       " ('19frame5_c.jpg', '14frame32_c.jpg', 0),\n",
       " ('26frame35_c.jpg', '02frame3_c.jpg', 0),\n",
       " ('17frame58_c.jpg', '08frame4_c.jpg', 0),\n",
       " ('17frame4_c.jpg', '17frame10_c.jpg', 1),\n",
       " ('13frame44_c.jpg', '03frame27_c.jpg', 0),\n",
       " ('16frame7_c.jpg', '03frame23_c.jpg', 0),\n",
       " ('22frame49_c.jpg', '09frame42_c.jpg', 0),\n",
       " ('12frame37_c.jpg', '02frame40_c.jpg', 0),\n",
       " ('19frame33_c.jpg', '13frame49_c.jpg', 0),\n",
       " ('26frame25_c.jpg', '06frame16_c.jpg', 0),\n",
       " ('26frame57_c.jpg', '23frame36_c.jpg', 0),\n",
       " ('10frame22_c.jpg', '09frame55_c.jpg', 0),\n",
       " ('24frame7_c.jpg', '23frame4_c.jpg', 0),\n",
       " ('29frame59_c.jpg', '23frame31_c.jpg', 0),\n",
       " ('28frame13_c.jpg', '28frame54_c.jpg', 1),\n",
       " ('22frame27_c.jpg', '22frame50_c.jpg', 1),\n",
       " ('26frame48_c.jpg', '17frame53_c.jpg', 0),\n",
       " ('28frame7_c.jpg', '02frame34_c.jpg', 0),\n",
       " ('11frame3_c.jpg', '04frame19_c.jpg', 0),\n",
       " ('29frame60_c.jpg', '17frame36_c.jpg', 0),\n",
       " ('07frame49_c.jpg', '07frame1_c.jpg', 1),\n",
       " ('12frame12_c.jpg', '11frame15_c.jpg', 0),\n",
       " ('30frame47_c.jpg', '24frame54_c.jpg', 0),\n",
       " ('17frame5_c.jpg', '13frame8_c.jpg', 0),\n",
       " ('17frame4_c.jpg', '07frame27_c.jpg', 0),\n",
       " ('24frame10_c.jpg', '15frame56_c.jpg', 0),\n",
       " ('20frame51_c.jpg', '08frame12_c.jpg', 0),\n",
       " ('27frame31_c.jpg', '04frame49_c.jpg', 0),\n",
       " ('11frame11_c.jpg', '08frame24_c.jpg', 0),\n",
       " ('21frame46_c.jpg', '09frame13_c.jpg', 0),\n",
       " ('16frame47_c.jpg', '05frame34_c.jpg', 0),\n",
       " ('24frame43_c.jpg', '18frame37_c.jpg', 0),\n",
       " ('25frame45_c.jpg', '23frame18_c.jpg', 0),\n",
       " ('12frame54_c.jpg', '08frame13_c.jpg', 0),\n",
       " ('24frame36_c.jpg', '13frame38_c.jpg', 0)]"
      ]
     },
     "execution_count": 78,
     "metadata": {},
     "output_type": "execute_result"
    }
   ],
   "source": [
    "triples_get = triples_batch_gen.next()\n",
    "triples_get"
   ]
  },
  {
   "cell_type": "code",
   "execution_count": 79,
   "metadata": {},
   "outputs": [
    {
     "name": "stdout",
     "output_type": "stream",
     "text": [
      "17frame61_c.jpg\n",
      "07frame42_c.jpg\n",
      "02frame58_c.jpg\n",
      "0.323475680361\n",
      "0.341245988623\n"
     ]
    }
   ],
   "source": [
    "ref_image = triples_get[0][0]\n",
    "print(ref_image)\n",
    "sim_image = triples_get[0][1]\n",
    "print(sim_image)\n",
    "dif_image = triples_get[1][1]\n",
    "print(dif_image)\n",
    "cos_dist_sim = spatial.distance.cosine(vec_dict[ref_image], vec_dict[sim_image])\n",
    "cos_dist_dif = spatial.distance.cosine(vec_dict[ref_image], vec_dict[dif_image])\n",
    "print(cos_dist_sim)\n",
    "print(cos_dist_dif)"
   ]
  },
  {
   "cell_type": "code",
   "execution_count": 80,
   "metadata": {},
   "outputs": [
    {
     "name": "stdout",
     "output_type": "stream",
     "text": [
      "5751000\n"
     ]
    },
    {
     "data": {
      "text/plain": [
       "[('1011.JPG', '02frame46_c.jpg', 0),\n",
       " ('1011.JPG', '04frame48_c.jpg', 0),\n",
       " ('1011.JPG', '30frame10_c.jpg', 0),\n",
       " ('1011.JPG', '14frame50_c.jpg', 0)]"
      ]
     },
     "execution_count": 80,
     "metadata": {},
     "output_type": "execute_result"
    }
   ],
   "source": [
    "test_b_triples = get_test_b_triples(IMAGE_DIR, TEST_B_DIR)\n",
    "print(len(test_b_triples))\n",
    "\n",
    "triples_batch_gen = image_triple_generator(test_b_triples, 4)\n",
    "triples_batch_gen.next()"
   ]
  },
  {
   "cell_type": "code",
   "execution_count": 81,
   "metadata": {},
   "outputs": [
    {
     "data": {
      "text/plain": [
       "[('1011.JPG', '22frame33_c.jpg', 0),\n",
       " ('1011.JPG', '08frame19_c.jpg', 0),\n",
       " ('1011.JPG', '01frame55_c.jpg', 0),\n",
       " ('1011.JPG', '08frame11_c.jpg', 0)]"
      ]
     },
     "execution_count": 81,
     "metadata": {},
     "output_type": "execute_result"
    }
   ],
   "source": [
    "triples_batch_gen.next()"
   ]
  },
  {
   "cell_type": "markdown",
   "metadata": {},
   "source": [
    "## Declare and Extract Common Data"
   ]
  },
  {
   "cell_type": "code",
   "execution_count": 83,
   "metadata": {},
   "outputs": [
    {
     "name": "stdout",
     "output_type": "stream",
     "text": [
      "1738811 73213 18304\n"
     ]
    }
   ],
   "source": [
    "train_triples, val_triples, test_triples = train_test_split(image_triples, \n",
    "                                                            splits=[0.95, 0.04, 0.01])\n",
    "print(len(train_triples), len(val_triples), len(test_triples))"
   ]
  },
  {
   "cell_type": "markdown",
   "metadata": {},
   "source": [
    "# ResNet 50 Vectors"
   ]
  },
  {
   "cell_type": "code",
   "execution_count": 84,
   "metadata": {},
   "outputs": [],
   "source": [
    "train_gen = data_generator(train_triples, VECTOR_SIZE, vec_dict, BATCH_SIZE)\n",
    "val_gen = data_generator(val_triples, VECTOR_SIZE, vec_dict, BATCH_SIZE)"
   ]
  },
  {
   "cell_type": "markdown",
   "metadata": {},
   "source": [
    "## Input: Elementwise Cosine Distance"
   ]
  },
  {
   "cell_type": "code",
   "execution_count": 85,
   "metadata": {},
   "outputs": [
    {
     "name": "stdout",
     "output_type": "stream",
     "text": [
      "(10,) (10,)\n",
      "(10,)\n"
     ]
    }
   ],
   "source": [
    "def cosine_distance(vecs, normalize=False):\n",
    "    x, y = vecs\n",
    "    if normalize:\n",
    "        x = K.l2_normalize(x, axis=0)\n",
    "        y = K.l2_normalize(x, axis=0)\n",
    "    return K.prod(K.stack([x, y], axis=1), axis=1)\n",
    "\n",
    "def cosine_distance_output_shape(shapes):\n",
    "    return shapes[0]\n",
    "\n",
    "vecs = [np.random.random((10,)), np.random.random((10,))]\n",
    "print(vecs[0].shape, vecs[1].shape)\n",
    "s = cosine_distance(vecs)\n",
    "print(s.shape)"
   ]
  },
  {
   "cell_type": "code",
   "execution_count": 86,
   "metadata": {},
   "outputs": [],
   "source": [
    "input_1 = Input(shape=(VECTOR_SIZE,))\n",
    "input_2 = Input(shape=(VECTOR_SIZE,))\n",
    "merged = Lambda(cosine_distance, \n",
    "                  output_shape=cosine_distance_output_shape)([input_1, input_2])\n",
    "\n",
    "fc1 = Dense(512, kernel_initializer=\"glorot_uniform\")(merged)\n",
    "fc1 = Dropout(0.2)(fc1)\n",
    "fc1 = Activation(\"relu\")(fc1)\n",
    "\n",
    "fc2 = Dense(128, kernel_initializer=\"glorot_uniform\")(fc1)\n",
    "fc2 = Dropout(0.2)(fc2)\n",
    "fc2 = Activation(\"relu\")(fc2)\n",
    "\n",
    "pred = Dense(2, kernel_initializer=\"glorot_uniform\")(fc2)\n",
    "pred = Activation(\"softmax\")(pred)"
   ]
  },
  {
   "cell_type": "code",
   "execution_count": 87,
   "metadata": {},
   "outputs": [
    {
     "name": "stdout",
     "output_type": "stream",
     "text": [
      "____________________________________________________________________________________________________\n",
      "Layer (type)                     Output Shape          Param #     Connected to                     \n",
      "====================================================================================================\n",
      "input_1 (InputLayer)             (None, 2048)          0                                            \n",
      "____________________________________________________________________________________________________\n",
      "input_2 (InputLayer)             (None, 2048)          0                                            \n",
      "____________________________________________________________________________________________________\n",
      "lambda_1 (Lambda)                (None, 2048)          0           input_1[0][0]                    \n",
      "                                                                   input_2[0][0]                    \n",
      "____________________________________________________________________________________________________\n",
      "dense_1 (Dense)                  (None, 512)           1049088     lambda_1[0][0]                   \n",
      "____________________________________________________________________________________________________\n",
      "dropout_1 (Dropout)              (None, 512)           0           dense_1[0][0]                    \n",
      "____________________________________________________________________________________________________\n",
      "activation_1 (Activation)        (None, 512)           0           dropout_1[0][0]                  \n",
      "____________________________________________________________________________________________________\n",
      "dense_2 (Dense)                  (None, 128)           65664       activation_1[0][0]               \n",
      "____________________________________________________________________________________________________\n",
      "dropout_2 (Dropout)              (None, 128)           0           dense_2[0][0]                    \n",
      "____________________________________________________________________________________________________\n",
      "activation_2 (Activation)        (None, 128)           0           dropout_2[0][0]                  \n",
      "____________________________________________________________________________________________________\n",
      "dense_3 (Dense)                  (None, 2)             258         activation_2[0][0]               \n",
      "____________________________________________________________________________________________________\n",
      "activation_3 (Activation)        (None, 2)             0           dense_3[0][0]                    \n",
      "====================================================================================================\n",
      "Total params: 1,115,010\n",
      "Trainable params: 1,115,010\n",
      "Non-trainable params: 0\n",
      "____________________________________________________________________________________________________\n"
     ]
    }
   ],
   "source": [
    "model = Model(inputs=[input_1, input_2], outputs=pred)\n",
    "model.summary()"
   ]
  },
  {
   "cell_type": "code",
   "execution_count": 88,
   "metadata": {},
   "outputs": [],
   "source": [
    "model.compile(optimizer=\"adam\", loss=\"categorical_crossentropy\", metrics=[\"accuracy\"])"
   ]
  },
  {
   "cell_type": "code",
   "execution_count": 89,
   "metadata": {},
   "outputs": [
    {
     "name": "stdout",
     "output_type": "stream",
     "text": [
      "Epoch 1/20\n",
      " 4325/54337 [=>............................] - ETA: 847s - loss: 0.5328 - acc: 0.9669"
     ]
    },
    {
     "ename": "KeyboardInterrupt",
     "evalue": "",
     "output_type": "error",
     "traceback": [
      "\u001b[0;31m\u001b[0m",
      "\u001b[0;31mKeyboardInterrupt\u001b[0mTraceback (most recent call last)",
      "\u001b[0;32m<ipython-input-89-7ae402fa993c>\u001b[0m in \u001b[0;36m<module>\u001b[0;34m()\u001b[0m\n\u001b[1;32m      6\u001b[0m                               \u001b[0mepochs\u001b[0m\u001b[0;34m=\u001b[0m\u001b[0mNUM_EPOCHS\u001b[0m\u001b[0;34m,\u001b[0m\u001b[0;34m\u001b[0m\u001b[0m\n\u001b[1;32m      7\u001b[0m                               \u001b[0mvalidation_data\u001b[0m\u001b[0;34m=\u001b[0m\u001b[0mval_gen\u001b[0m\u001b[0;34m,\u001b[0m \u001b[0mvalidation_steps\u001b[0m\u001b[0;34m=\u001b[0m\u001b[0mval_steps_per_epoch\u001b[0m\u001b[0;34m,\u001b[0m\u001b[0;34m\u001b[0m\u001b[0m\n\u001b[0;32m----> 8\u001b[0;31m                               callbacks=[checkpoint])\n\u001b[0m",
      "\u001b[0;32m/usr/local/lib/python2.7/site-packages/keras/legacy/interfaces.pyc\u001b[0m in \u001b[0;36mwrapper\u001b[0;34m(*args, **kwargs)\u001b[0m\n\u001b[1;32m     85\u001b[0m                 warnings.warn('Update your `' + object_name +\n\u001b[1;32m     86\u001b[0m                               '` call to the Keras 2 API: ' + signature, stacklevel=2)\n\u001b[0;32m---> 87\u001b[0;31m             \u001b[0;32mreturn\u001b[0m \u001b[0mfunc\u001b[0m\u001b[0;34m(\u001b[0m\u001b[0;34m*\u001b[0m\u001b[0margs\u001b[0m\u001b[0;34m,\u001b[0m \u001b[0;34m**\u001b[0m\u001b[0mkwargs\u001b[0m\u001b[0;34m)\u001b[0m\u001b[0;34m\u001b[0m\u001b[0m\n\u001b[0m\u001b[1;32m     88\u001b[0m         \u001b[0mwrapper\u001b[0m\u001b[0;34m.\u001b[0m\u001b[0m_original_function\u001b[0m \u001b[0;34m=\u001b[0m \u001b[0mfunc\u001b[0m\u001b[0;34m\u001b[0m\u001b[0m\n\u001b[1;32m     89\u001b[0m         \u001b[0;32mreturn\u001b[0m \u001b[0mwrapper\u001b[0m\u001b[0;34m\u001b[0m\u001b[0m\n",
      "\u001b[0;32m/usr/local/lib/python2.7/site-packages/keras/engine/training.pyc\u001b[0m in \u001b[0;36mfit_generator\u001b[0;34m(self, generator, steps_per_epoch, epochs, verbose, callbacks, validation_data, validation_steps, class_weight, max_queue_size, workers, use_multiprocessing, shuffle, initial_epoch)\u001b[0m\n\u001b[1;32m   2040\u001b[0m                     outs = self.train_on_batch(x, y,\n\u001b[1;32m   2041\u001b[0m                                                \u001b[0msample_weight\u001b[0m\u001b[0;34m=\u001b[0m\u001b[0msample_weight\u001b[0m\u001b[0;34m,\u001b[0m\u001b[0;34m\u001b[0m\u001b[0m\n\u001b[0;32m-> 2042\u001b[0;31m                                                class_weight=class_weight)\n\u001b[0m\u001b[1;32m   2043\u001b[0m \u001b[0;34m\u001b[0m\u001b[0m\n\u001b[1;32m   2044\u001b[0m                     \u001b[0;32mif\u001b[0m \u001b[0;32mnot\u001b[0m \u001b[0misinstance\u001b[0m\u001b[0;34m(\u001b[0m\u001b[0mouts\u001b[0m\u001b[0;34m,\u001b[0m \u001b[0mlist\u001b[0m\u001b[0;34m)\u001b[0m\u001b[0;34m:\u001b[0m\u001b[0;34m\u001b[0m\u001b[0m\n",
      "\u001b[0;32m/usr/local/lib/python2.7/site-packages/keras/engine/training.pyc\u001b[0m in \u001b[0;36mtrain_on_batch\u001b[0;34m(self, x, y, sample_weight, class_weight)\u001b[0m\n\u001b[1;32m   1760\u001b[0m             \u001b[0mins\u001b[0m \u001b[0;34m=\u001b[0m \u001b[0mx\u001b[0m \u001b[0;34m+\u001b[0m \u001b[0my\u001b[0m \u001b[0;34m+\u001b[0m \u001b[0msample_weights\u001b[0m\u001b[0;34m\u001b[0m\u001b[0m\n\u001b[1;32m   1761\u001b[0m         \u001b[0mself\u001b[0m\u001b[0;34m.\u001b[0m\u001b[0m_make_train_function\u001b[0m\u001b[0;34m(\u001b[0m\u001b[0;34m)\u001b[0m\u001b[0;34m\u001b[0m\u001b[0m\n\u001b[0;32m-> 1762\u001b[0;31m         \u001b[0moutputs\u001b[0m \u001b[0;34m=\u001b[0m \u001b[0mself\u001b[0m\u001b[0;34m.\u001b[0m\u001b[0mtrain_function\u001b[0m\u001b[0;34m(\u001b[0m\u001b[0mins\u001b[0m\u001b[0;34m)\u001b[0m\u001b[0;34m\u001b[0m\u001b[0m\n\u001b[0m\u001b[1;32m   1763\u001b[0m         \u001b[0;32mif\u001b[0m \u001b[0mlen\u001b[0m\u001b[0;34m(\u001b[0m\u001b[0moutputs\u001b[0m\u001b[0;34m)\u001b[0m \u001b[0;34m==\u001b[0m \u001b[0;36m1\u001b[0m\u001b[0;34m:\u001b[0m\u001b[0;34m\u001b[0m\u001b[0m\n\u001b[1;32m   1764\u001b[0m             \u001b[0;32mreturn\u001b[0m \u001b[0moutputs\u001b[0m\u001b[0;34m[\u001b[0m\u001b[0;36m0\u001b[0m\u001b[0;34m]\u001b[0m\u001b[0;34m\u001b[0m\u001b[0m\n",
      "\u001b[0;32m/usr/local/lib/python2.7/site-packages/keras/backend/tensorflow_backend.pyc\u001b[0m in \u001b[0;36m__call__\u001b[0;34m(self, inputs)\u001b[0m\n\u001b[1;32m   2271\u001b[0m         updated = session.run(self.outputs + [self.updates_op],\n\u001b[1;32m   2272\u001b[0m                               \u001b[0mfeed_dict\u001b[0m\u001b[0;34m=\u001b[0m\u001b[0mfeed_dict\u001b[0m\u001b[0;34m,\u001b[0m\u001b[0;34m\u001b[0m\u001b[0m\n\u001b[0;32m-> 2273\u001b[0;31m                               **self.session_kwargs)\n\u001b[0m\u001b[1;32m   2274\u001b[0m         \u001b[0;32mreturn\u001b[0m \u001b[0mupdated\u001b[0m\u001b[0;34m[\u001b[0m\u001b[0;34m:\u001b[0m\u001b[0mlen\u001b[0m\u001b[0;34m(\u001b[0m\u001b[0mself\u001b[0m\u001b[0;34m.\u001b[0m\u001b[0moutputs\u001b[0m\u001b[0;34m)\u001b[0m\u001b[0;34m]\u001b[0m\u001b[0;34m\u001b[0m\u001b[0m\n\u001b[1;32m   2275\u001b[0m \u001b[0;34m\u001b[0m\u001b[0m\n",
      "\u001b[0;32m/usr/local/lib/python2.7/site-packages/tensorflow/python/client/session.pyc\u001b[0m in \u001b[0;36mrun\u001b[0;34m(self, fetches, feed_dict, options, run_metadata)\u001b[0m\n\u001b[1;32m    887\u001b[0m     \u001b[0;32mtry\u001b[0m\u001b[0;34m:\u001b[0m\u001b[0;34m\u001b[0m\u001b[0m\n\u001b[1;32m    888\u001b[0m       result = self._run(None, fetches, feed_dict, options_ptr,\n\u001b[0;32m--> 889\u001b[0;31m                          run_metadata_ptr)\n\u001b[0m\u001b[1;32m    890\u001b[0m       \u001b[0;32mif\u001b[0m \u001b[0mrun_metadata\u001b[0m\u001b[0;34m:\u001b[0m\u001b[0;34m\u001b[0m\u001b[0m\n\u001b[1;32m    891\u001b[0m         \u001b[0mproto_data\u001b[0m \u001b[0;34m=\u001b[0m \u001b[0mtf_session\u001b[0m\u001b[0;34m.\u001b[0m\u001b[0mTF_GetBuffer\u001b[0m\u001b[0;34m(\u001b[0m\u001b[0mrun_metadata_ptr\u001b[0m\u001b[0;34m)\u001b[0m\u001b[0;34m\u001b[0m\u001b[0m\n",
      "\u001b[0;32m/usr/local/lib/python2.7/site-packages/tensorflow/python/client/session.pyc\u001b[0m in \u001b[0;36m_run\u001b[0;34m(self, handle, fetches, feed_dict, options, run_metadata)\u001b[0m\n\u001b[1;32m   1118\u001b[0m     \u001b[0;32mif\u001b[0m \u001b[0mfinal_fetches\u001b[0m \u001b[0;32mor\u001b[0m \u001b[0mfinal_targets\u001b[0m \u001b[0;32mor\u001b[0m \u001b[0;34m(\u001b[0m\u001b[0mhandle\u001b[0m \u001b[0;32mand\u001b[0m \u001b[0mfeed_dict_tensor\u001b[0m\u001b[0;34m)\u001b[0m\u001b[0;34m:\u001b[0m\u001b[0;34m\u001b[0m\u001b[0m\n\u001b[1;32m   1119\u001b[0m       results = self._do_run(handle, final_targets, final_fetches,\n\u001b[0;32m-> 1120\u001b[0;31m                              feed_dict_tensor, options, run_metadata)\n\u001b[0m\u001b[1;32m   1121\u001b[0m     \u001b[0;32melse\u001b[0m\u001b[0;34m:\u001b[0m\u001b[0;34m\u001b[0m\u001b[0m\n\u001b[1;32m   1122\u001b[0m       \u001b[0mresults\u001b[0m \u001b[0;34m=\u001b[0m \u001b[0;34m[\u001b[0m\u001b[0;34m]\u001b[0m\u001b[0;34m\u001b[0m\u001b[0m\n",
      "\u001b[0;32m/usr/local/lib/python2.7/site-packages/tensorflow/python/client/session.pyc\u001b[0m in \u001b[0;36m_do_run\u001b[0;34m(self, handle, target_list, fetch_list, feed_dict, options, run_metadata)\u001b[0m\n\u001b[1;32m   1315\u001b[0m     \u001b[0;32mif\u001b[0m \u001b[0mhandle\u001b[0m \u001b[0;32mis\u001b[0m \u001b[0mNone\u001b[0m\u001b[0;34m:\u001b[0m\u001b[0;34m\u001b[0m\u001b[0m\n\u001b[1;32m   1316\u001b[0m       return self._do_call(_run_fn, self._session, feeds, fetches, targets,\n\u001b[0;32m-> 1317\u001b[0;31m                            options, run_metadata)\n\u001b[0m\u001b[1;32m   1318\u001b[0m     \u001b[0;32melse\u001b[0m\u001b[0;34m:\u001b[0m\u001b[0;34m\u001b[0m\u001b[0m\n\u001b[1;32m   1319\u001b[0m       \u001b[0;32mreturn\u001b[0m \u001b[0mself\u001b[0m\u001b[0;34m.\u001b[0m\u001b[0m_do_call\u001b[0m\u001b[0;34m(\u001b[0m\u001b[0m_prun_fn\u001b[0m\u001b[0;34m,\u001b[0m \u001b[0mself\u001b[0m\u001b[0;34m.\u001b[0m\u001b[0m_session\u001b[0m\u001b[0;34m,\u001b[0m \u001b[0mhandle\u001b[0m\u001b[0;34m,\u001b[0m \u001b[0mfeeds\u001b[0m\u001b[0;34m,\u001b[0m \u001b[0mfetches\u001b[0m\u001b[0;34m)\u001b[0m\u001b[0;34m\u001b[0m\u001b[0m\n",
      "\u001b[0;32m/usr/local/lib/python2.7/site-packages/tensorflow/python/client/session.pyc\u001b[0m in \u001b[0;36m_do_call\u001b[0;34m(self, fn, *args)\u001b[0m\n\u001b[1;32m   1321\u001b[0m   \u001b[0;32mdef\u001b[0m \u001b[0m_do_call\u001b[0m\u001b[0;34m(\u001b[0m\u001b[0mself\u001b[0m\u001b[0;34m,\u001b[0m \u001b[0mfn\u001b[0m\u001b[0;34m,\u001b[0m \u001b[0;34m*\u001b[0m\u001b[0margs\u001b[0m\u001b[0;34m)\u001b[0m\u001b[0;34m:\u001b[0m\u001b[0;34m\u001b[0m\u001b[0m\n\u001b[1;32m   1322\u001b[0m     \u001b[0;32mtry\u001b[0m\u001b[0;34m:\u001b[0m\u001b[0;34m\u001b[0m\u001b[0m\n\u001b[0;32m-> 1323\u001b[0;31m       \u001b[0;32mreturn\u001b[0m \u001b[0mfn\u001b[0m\u001b[0;34m(\u001b[0m\u001b[0;34m*\u001b[0m\u001b[0margs\u001b[0m\u001b[0;34m)\u001b[0m\u001b[0;34m\u001b[0m\u001b[0m\n\u001b[0m\u001b[1;32m   1324\u001b[0m     \u001b[0;32mexcept\u001b[0m \u001b[0merrors\u001b[0m\u001b[0;34m.\u001b[0m\u001b[0mOpError\u001b[0m \u001b[0;32mas\u001b[0m \u001b[0me\u001b[0m\u001b[0;34m:\u001b[0m\u001b[0;34m\u001b[0m\u001b[0m\n\u001b[1;32m   1325\u001b[0m       \u001b[0mmessage\u001b[0m \u001b[0;34m=\u001b[0m \u001b[0mcompat\u001b[0m\u001b[0;34m.\u001b[0m\u001b[0mas_text\u001b[0m\u001b[0;34m(\u001b[0m\u001b[0me\u001b[0m\u001b[0;34m.\u001b[0m\u001b[0mmessage\u001b[0m\u001b[0;34m)\u001b[0m\u001b[0;34m\u001b[0m\u001b[0m\n",
      "\u001b[0;32m/usr/local/lib/python2.7/site-packages/tensorflow/python/client/session.pyc\u001b[0m in \u001b[0;36m_run_fn\u001b[0;34m(session, feed_dict, fetch_list, target_list, options, run_metadata)\u001b[0m\n\u001b[1;32m   1300\u001b[0m           return tf_session.TF_Run(session, options,\n\u001b[1;32m   1301\u001b[0m                                    \u001b[0mfeed_dict\u001b[0m\u001b[0;34m,\u001b[0m \u001b[0mfetch_list\u001b[0m\u001b[0;34m,\u001b[0m \u001b[0mtarget_list\u001b[0m\u001b[0;34m,\u001b[0m\u001b[0;34m\u001b[0m\u001b[0m\n\u001b[0;32m-> 1302\u001b[0;31m                                    status, run_metadata)\n\u001b[0m\u001b[1;32m   1303\u001b[0m \u001b[0;34m\u001b[0m\u001b[0m\n\u001b[1;32m   1304\u001b[0m     \u001b[0;32mdef\u001b[0m \u001b[0m_prun_fn\u001b[0m\u001b[0;34m(\u001b[0m\u001b[0msession\u001b[0m\u001b[0;34m,\u001b[0m \u001b[0mhandle\u001b[0m\u001b[0;34m,\u001b[0m \u001b[0mfeed_dict\u001b[0m\u001b[0;34m,\u001b[0m \u001b[0mfetch_list\u001b[0m\u001b[0;34m)\u001b[0m\u001b[0;34m:\u001b[0m\u001b[0;34m\u001b[0m\u001b[0m\n",
      "\u001b[0;31mKeyboardInterrupt\u001b[0m: "
     ]
    }
   ],
   "source": [
    "best_model_name = get_model_file(\"/output/\", \"resnet50_cropped_large_train\", \"dot\", \"best\")\n",
    "checkpoint = ModelCheckpoint(best_model_name, save_best_only=True)\n",
    "train_steps_per_epoch = len(train_triples) // BATCH_SIZE\n",
    "val_steps_per_epoch = len(val_triples) // BATCH_SIZE\n",
    "history = model.fit_generator(train_gen, steps_per_epoch=train_steps_per_epoch, \n",
    "                              epochs=NUM_EPOCHS, \n",
    "                              validation_data=val_gen, validation_steps=val_steps_per_epoch,\n",
    "                              callbacks=[checkpoint])"
   ]
  },
  {
   "cell_type": "code",
   "execution_count": 84,
   "metadata": {},
   "outputs": [
    {
     "data": {
      "image/png": "[encoded data removed]",
      "text/plain": [
       "<matplotlib.figure.Figure at 0x7fcd8037c1d0>"
      ]
     },
     "metadata": {},
     "output_type": "display_data"
    }
   ],
   "source": [
    "plt.subplot(211)\n",
    "plt.title(\"Loss\")\n",
    "plt.plot(history.history[\"loss\"], color=\"r\", label=\"train\")\n",
    "plt.plot(history.history[\"val_loss\"], color=\"b\", label=\"validation\")\n",
    "plt.legend(loc=\"best\")\n",
    "\n",
    "plt.subplot(212)\n",
    "plt.title(\"Accuracy\")\n",
    "plt.plot(history.history[\"acc\"], color=\"r\", label=\"train\")\n",
    "plt.plot(history.history[\"val_acc\"], color=\"b\", label=\"validation\")\n",
    "plt.legend(loc=\"best\")\n",
    "\n",
    "plt.show()"
   ]
  },
  {
   "cell_type": "code",
   "execution_count": 86,
   "metadata": {},
   "outputs": [
    {
     "name": "stdout",
     "output_type": "stream",
     "text": [
      "=== Evaluating model: resnet50_cropped_hard_train-dot-final.h5 ===\n",
      "\n",
      "Accuracy: 0.983\n",
      "\n",
      "Confusion Matrix\n",
      "[[11233   347]\n",
      " [   52 11504]]\n",
      "\n",
      "Classification Report\n",
      "             precision    recall  f1-score   support\n",
      "\n",
      "          0       1.00      0.97      0.98     11580\n",
      "          1       0.97      1.00      0.98     11556\n",
      "\n",
      "avg / total       0.98      0.98      0.98     23136\n",
      "\n",
      "=== Evaluating model: resnet50_cropped_hard_train-dot-best.h5 ===\n",
      "\n",
      "Accuracy: 0.982\n",
      "\n",
      "Confusion Matrix\n",
      "[[11223   355]\n",
      " [   63 11495]]\n",
      "\n",
      "Classification Report\n",
      "             precision    recall  f1-score   support\n",
      "\n",
      "          0       0.99      0.97      0.98     11578\n",
      "          1       0.97      0.99      0.98     11558\n",
      "\n",
      "avg / total       0.98      0.98      0.98     23136\n",
      "\n"
     ]
    }
   ],
   "source": [
    "final_model_name = get_model_file(\"/output/\", \"resnet50_cropped_hard_train\", \"dot\", \"final\")\n",
    "#best_model_name = get_model_file(\"/output/\", \"resnet50_cropped\", \"dot\", \"best\")\n",
    "model.save(final_model_name)\n",
    "test_gen = data_generator(test_triples, VECTOR_SIZE, vec_dict, BATCH_SIZE)\n",
    "final_accuracy = evaluate_model(final_model_name, test_gen)\n",
    "\n",
    "test_gen = data_generator(test_triples, VECTOR_SIZE, vec_dict, BATCH_SIZE)\n",
    "best_accuracy = evaluate_model(best_model_name, test_gen)\n",
    "\n",
    "#scores[1, 1] = best_accuracy if best_accuracy > final_accuracy else final_accuracy"
   ]
  },
  {
   "cell_type": "code",
   "execution_count": 87,
   "metadata": {},
   "outputs": [],
   "source": [
    "import pandas as pd\n",
    "def evaluate_test_b_simple_ave(model_file, image_dir, test_b_dir, vec_size, vec_dict_test_b, vec_dict, batch_size):\n",
    "    model_name = os.path.basename(model_file)\n",
    "    model = load_model(model_file)\n",
    "    print(\"=== Evaluating model test a: {:s} ===\".format(model_name))\n",
    "    image_names_rev = [x for x in os.listdir(image_dir) if not (x.startswith('.'))]\n",
    "    test_b_names = [x for x in os.listdir(test_b_dir) if not (x.startswith('.'))]\n",
    "    X1 = np.zeros((len(image_names_rev), vec_size))\n",
    "    X2 = np.zeros((len(image_names_rev), vec_size))\n",
    "    #Y = np.zeros((len(batch), 2))\n",
    "    #test_b_names_new = []\n",
    "    #image_names_new = []\n",
    "    ypred = []\n",
    "    for j, test_b_name in enumerate(test_b_names):\n",
    "        test_b_names_new = []\n",
    "        image_names_new = []\n",
    "        for i, image_name in enumerate(image_names_rev):\n",
    "            X1[i] = vec_dict_test_b[test_b_name]\n",
    "            X2[i] = vec_dict[image_name]\n",
    "            test_b_names_new.append(test_b_name[0:-4])\n",
    "            image_names_new.append(image_name[0:-4])\n",
    "        Y_ = model.predict([X1, X2])\n",
    "        Y_s = [x[1] for x in Y_] \n",
    "        #ypred.extend((Y_s))\n",
    "\n",
    "        DF = pd.DataFrame({\"probability\": Y_s, \"ImageGroup\": image_names_new,\n",
    "              \"test_image_ID\": test_b_names_new\n",
    "              })\n",
    "        DF = DF[['test_image_ID', 'ImageGroup', 'probability']]\n",
    "\n",
    "        DF.to_csv(\"/output/test_b_cropped_hard_train_f.csv\",\n",
    "                        sep=',', encoding=\"utf-8\", index = False,\n",
    "                        header = False, mode = \"a\")\n",
    "        if j%100 ==0:\n",
    "            print(\"the %d test image is in processing\" %j)\n",
    "\n",
    "    return Y_s, test_b_names_new,image_names_new\n",
    "            "
   ]
  },
  {
   "cell_type": "code",
   "execution_count": 88,
   "metadata": {},
   "outputs": [
    {
     "name": "stdout",
     "output_type": "stream",
     "text": [
      "=== Evaluating model test a: resnet50_cropped_hard_train-dot-final.h5 ===\n",
      "the 0 test image is in processing\n",
      "the 100 test image is in processing\n",
      "the 200 test image is in processing\n",
      "the 300 test image is in processing\n",
      "the 400 test image is in processing\n",
      "the 500 test image is in processing\n",
      "the 600 test image is in processing\n",
      "the 700 test image is in processing\n",
      "the 800 test image is in processing\n",
      "the 900 test image is in processing\n",
      "the 1000 test image is in processing\n",
      "the 1100 test image is in processing\n",
      "the 1200 test image is in processing\n",
      "the 1300 test image is in processing\n",
      "the 1400 test image is in processing\n",
      "the 1500 test image is in processing\n",
      "the 1600 test image is in processing\n",
      "the 1700 test image is in processing\n",
      "the 1800 test image is in processing\n",
      "the 1900 test image is in processing\n",
      "the 2000 test image is in processing\n",
      "the 2100 test image is in processing\n",
      "the 2200 test image is in processing\n",
      "the 2300 test image is in processing\n",
      "the 2400 test image is in processing\n",
      "the 2500 test image is in processing\n",
      "the 2600 test image is in processing\n",
      "the 2700 test image is in processing\n",
      "the 2800 test image is in processing\n",
      "the 2900 test image is in processing\n"
     ]
    }
   ],
   "source": [
    "ypred, test_b_names, image_names = evaluate_test_b_simple_ave(final_model_name,IMAGE_DIR, TEST_B_DIR, VECTOR_SIZE, vec_dict_test_b, vec_dict, BATCH_SIZE )"
   ]
  },
  {
   "cell_type": "code",
   "execution_count": null,
   "metadata": {
    "collapsed": true
   },
   "outputs": [],
   "source": []
  }
 ],
 "metadata": {
  "anaconda-cloud": {},
  "kernelspec": {
   "display_name": "Python 2",
   "language": "python",
   "name": "python2"
  },
  "language_info": {
   "codemirror_mode": {
    "name": "ipython",
    "version": 2
   },
   "file_extension": ".py",
   "mimetype": "text/x-python",
   "name": "python",
   "nbconvert_exporter": "python",
   "pygments_lexer": "ipython2",
   "version": "2.7.13"
  }
 },
 "nbformat": 4,
 "nbformat_minor": 2
}
