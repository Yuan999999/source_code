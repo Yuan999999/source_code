{
 "cells": [
  {
   "cell_type": "code",
   "execution_count": 9,
   "metadata": {},
   "outputs": [],
   "source": [
    "from __future__ import division, print_function\n",
    "from keras import backend as K\n",
    "from keras.applications import resnet50\n",
    "from keras.callbacks import ModelCheckpoint\n",
    "from keras.layers import Input, merge\n",
    "from keras.layers.core import Activation, Dense, Dropout, Lambda\n",
    "from keras.models import Model, load_model\n",
    "from keras.preprocessing.image import ImageDataGenerator\n",
    "from keras.utils import np_utils\n",
    "from sklearn.model_selection import train_test_split\n",
    "from sklearn.metrics import accuracy_score, confusion_matrix\n",
    "from random import shuffle\n",
    "from scipy.misc import imresize\n",
    "import itertools\n",
    "import matplotlib.pyplot as plt\n",
    "import numpy as np\n",
    "import os\n",
    "%matplotlib inline"
   ]
  },
  {
   "cell_type": "code",
   "execution_count": 10,
   "metadata": {},
   "outputs": [],
   "source": [
    "DATA_DIR = \"/\"\n",
    "IMAGE_DIR = os.path.join(DATA_DIR, \"images_after_crop\")\n",
    "TEST_B_DIR = os.path.join(DATA_DIR, \"pigtest_b\")\n",
    "\n",
    "BATCH_SIZE = 32\n",
    "NUM_EPOCHS = 20"
   ]
  },
  {
   "cell_type": "code",
   "execution_count": 11,
   "metadata": {},
   "outputs": [],
   "source": [
    "VECTOR_SIZE = 2048\n",
    "VECTOR_FILE = os.path.join(\"/vector_data/\", \"resnet-vectors-cropped-images.tsv\")\n",
    "VECTOR_FILE_TEST_B = os.path.join(\"/vector_data/\", \"resnet-vectors-test-b.tsv\")"
   ]
  },
  {
   "cell_type": "markdown",
   "metadata": {},
   "source": [
    "## Prepare Data\n",
    "\n",
    "We use the naming convention to identify as a positive pair any two images that are part of the same group, and negative as a random pair of images in different groups."
   ]
  },
  {
   "cell_type": "code",
   "execution_count": 14,
   "metadata": {},
   "outputs": [
    {
     "name": "stdout",
     "output_type": "stream",
     "text": [
      "120752\n",
      "[('12frame13_c.jpg', '28frame38_c.jpg', 0), ('12frame43_c.jpg', '06frame22_c.jpg', 0), ('19frame41_c.jpg', '19frame28_c.jpg', 1), ('16frame61_c.jpg', '03frame22_c.jpg', 0), ('05frame44_c.jpg', '05frame48_c.jpg', 1), ('25frame54_c.jpg', '24frame33_c.jpg', 0), ('22frame7_c.jpg', '22frame23_c.jpg', 1), ('24frame55_c.jpg', '24frame60_c.jpg', 1), ('01frame4_c.jpg', '01frame24_c.jpg', 1), ('24frame6_c.jpg', '24frame28_c.jpg', 1), ('06frame54_c.jpg', '08frame36_c.jpg', 0), ('03frame48_c.jpg', '21frame27_c.jpg', 0), ('21frame54_c.jpg', '22frame56_c.jpg', 0), ('09frame27_c.jpg', '26frame44_c.jpg', 0), ('04frame12_c.jpg', '05frame4_c.jpg', 0), ('19frame52_c.jpg', '18frame32_c.jpg', 0), ('25frame60_c.jpg', '03frame57_c.jpg', 0), ('14frame18_c.jpg', '14frame12_c.jpg', 1), ('13frame10_c.jpg', '10frame0_c.jpg', 0), ('19frame22_c.jpg', '19frame20_c.jpg', 1), ('17frame32_c.jpg', '27frame4_c.jpg', 0), ('15frame24_c.jpg', '10frame14_c.jpg', 0), ('07frame54_c.jpg', '21frame28_c.jpg', 0), ('04frame62_c.jpg', '04frame32_c.jpg', 1), ('07frame53_c.jpg', '03frame19_c.jpg', 0), ('25frame43_c.jpg', '25frame64_c.jpg', 1), ('20frame16_c.jpg', '20frame7_c.jpg', 1), ('08frame36_c.jpg', '08frame39_c.jpg', 1), ('13frame22_c.jpg', '14frame22_c.jpg', 0), ('08frame34_c.jpg', '08frame61_c.jpg', 1), ('19frame60_c.jpg', '19frame15_c.jpg', 1), ('27frame56_c.jpg', '09frame39_c.jpg', 0), ('15frame39_c.jpg', '23frame42_c.jpg', 0), ('10frame1_c.jpg', '10frame37_c.jpg', 1), ('30frame28_c.jpg', '05frame6_c.jpg', 0), ('05frame43_c.jpg', '08frame30_c.jpg', 0), ('26frame15_c.jpg', '06frame47_c.jpg', 0), ('19frame59_c.jpg', '17frame59_c.jpg', 0), ('13frame51_c.jpg', '18frame8_c.jpg', 0), ('16frame12_c.jpg', '23frame18_c.jpg', 0), ('12frame59_c.jpg', '12frame37_c.jpg', 1), ('12frame31_c.jpg', '17frame26_c.jpg', 0), ('06frame1_c.jpg', '06frame29_c.jpg', 1), ('17frame63_c.jpg', '19frame62_c.jpg', 0), ('12frame57_c.jpg', '12frame61_c.jpg', 1), ('04frame60_c.jpg', '10frame29_c.jpg', 0), ('05frame62_c.jpg', '05frame48_c.jpg', 1), ('16frame17_c.jpg', '16frame4_c.jpg', 1), ('16frame34_c.jpg', '16frame5_c.jpg', 1), ('03frame25_c.jpg', '03frame9_c.jpg', 1), ('23frame24_c.jpg', '23frame31_c.jpg', 1), ('15frame31_c.jpg', '15frame21_c.jpg', 1), ('12frame35_c.jpg', '17frame9_c.jpg', 0), ('10frame56_c.jpg', '06frame57_c.jpg', 0), ('10frame22_c.jpg', '10frame7_c.jpg', 1), ('22frame3_c.jpg', '22frame30_c.jpg', 1), ('02frame33_c.jpg', '17frame53_c.jpg', 0), ('21frame46_c.jpg', '21frame62_c.jpg', 1), ('21frame24_c.jpg', '10frame10_c.jpg', 0), ('28frame57_c.jpg', '03frame16_c.jpg', 0), ('13frame4_c.jpg', '19frame53_c.jpg', 0), ('20frame15_c.jpg', '20frame13_c.jpg', 1), ('12frame47_c.jpg', '12frame52_c.jpg', 1), ('03frame40_c.jpg', '15frame29_c.jpg', 0), ('03frame60_c.jpg', '03frame9_c.jpg', 1), ('11frame0_c.jpg', '11frame9_c.jpg', 1), ('08frame41_c.jpg', '08frame34_c.jpg', 1), ('22frame62_c.jpg', '22frame60_c.jpg', 1), ('17frame38_c.jpg', '17frame37_c.jpg', 1), ('01frame51_c.jpg', '01frame13_c.jpg', 1), ('25frame28_c.jpg', '25frame47_c.jpg', 1), ('29frame56_c.jpg', '29frame53_c.jpg', 1), ('30frame35_c.jpg', '30frame6_c.jpg', 1), ('10frame33_c.jpg', '10frame55_c.jpg', 1), ('02frame63_c.jpg', '17frame27_c.jpg', 0), ('23frame61_c.jpg', '23frame49_c.jpg', 1), ('22frame2_c.jpg', '22frame7_c.jpg', 1), ('03frame57_c.jpg', '03frame12_c.jpg', 1), ('26frame17_c.jpg', '26frame64_c.jpg', 1), ('16frame45_c.jpg', '16frame37_c.jpg', 1), ('19frame46_c.jpg', '16frame28_c.jpg', 0), ('23frame33_c.jpg', '23frame30_c.jpg', 1), ('12frame48_c.jpg', '04frame25_c.jpg', 0), ('08frame20_c.jpg', '27frame53_c.jpg', 0), ('21frame12_c.jpg', '21frame22_c.jpg', 1), ('28frame60_c.jpg', '21frame25_c.jpg', 0), ('04frame55_c.jpg', '18frame5_c.jpg', 0), ('27frame42_c.jpg', '27frame22_c.jpg', 1), ('16frame43_c.jpg', '15frame42_c.jpg', 0), ('17frame54_c.jpg', '12frame62_c.jpg', 0), ('10frame2_c.jpg', '02frame31_c.jpg', 0), ('22frame47_c.jpg', '29frame45_c.jpg', 0), ('07frame20_c.jpg', '11frame11_c.jpg', 0), ('13frame17_c.jpg', '13frame40_c.jpg', 1), ('18frame29_c.jpg', '24frame45_c.jpg', 0), ('08frame51_c.jpg', '08frame32_c.jpg', 1), ('01frame54_c.jpg', '27frame26_c.jpg', 0), ('25frame8_c.jpg', '02frame19_c.jpg', 0), ('05frame48_c.jpg', '08frame15_c.jpg', 0), ('25frame4_c.jpg', '25frame10_c.jpg', 1)]\n"
     ]
    }
   ],
   "source": [
    "def get_random_image(img_groups, group_names, gid):\n",
    "    gname = group_names[gid]\n",
    "    photos = img_groups[gname]\n",
    "    pid = np.random.choice(np.arange(len(photos)), size=1)[0]\n",
    "    pname = photos[pid]\n",
    "    return gname + pname + \".jpg\"\n",
    "    \n",
    "def create_triples(image_dir):\n",
    "    img_groups = {}\n",
    "    image_files = [x for x in os.listdir(image_dir) if not (x.startswith('.'))]\n",
    "    for img_file in image_files:\n",
    "        prefix, suffix = img_file.split(\".\")\n",
    "        gid, pid = prefix[0:2], prefix[2:]\n",
    "        if img_groups.has_key(gid):\n",
    "            img_groups[gid].append(pid)\n",
    "        else:\n",
    "            img_groups[gid] = [pid]\n",
    "    pos_triples, neg_triples = [], []\n",
    "    # positive pairs are any combination of images in same group\n",
    "    for key in img_groups.keys():\n",
    "        triples = [(key + x[0] + \".jpg\", key + x[1] + \".jpg\", 1) \n",
    "                 for x in itertools.combinations(img_groups[key], 2)]\n",
    "        pos_triples.extend(triples)\n",
    "    # need equal number of negative examples\n",
    "    group_names = list(img_groups.keys())\n",
    "    for i in range(len(pos_triples)):\n",
    "        g1, g2 = np.random.choice(np.arange(len(group_names)), size=2, replace=False)\n",
    "        left = get_random_image(img_groups, group_names, g1)\n",
    "        right = get_random_image(img_groups, group_names, g2)\n",
    "        neg_triples.append((left, right, 0))\n",
    "    pos_triples.extend(neg_triples)\n",
    "    shuffle(pos_triples)\n",
    "    return pos_triples\n",
    "\n",
    "triples_data = create_triples(IMAGE_DIR)\n",
    "\n",
    "print(len(triples_data))\n",
    "print(triples_data[0:100])"
   ]
  },
  {
   "cell_type": "markdown",
   "metadata": {},
   "source": [
    "Using the triples, we create a cache keyed by image filename and whose value is the numpy vector represented by the image. Since we plan on using pretrained resnet50 network, our images are resized to (224, 224, 3)."
   ]
  },
  {
   "cell_type": "code",
   "execution_count": 15,
   "metadata": {},
   "outputs": [
    {
     "name": "stdout",
     "output_type": "stream",
     "text": [
      "images from 0/120752 pairs loaded to cache\n",
      "images from 1000/120752 pairs loaded to cache\n",
      "images from 2000/120752 pairs loaded to cache\n",
      "images from 3000/120752 pairs loaded to cache\n",
      "images from 4000/120752 pairs loaded to cache\n",
      "images from 5000/120752 pairs loaded to cache\n",
      "images from 6000/120752 pairs loaded to cache\n",
      "images from 7000/120752 pairs loaded to cache\n",
      "images from 8000/120752 pairs loaded to cache\n",
      "images from 9000/120752 pairs loaded to cache\n",
      "images from 10000/120752 pairs loaded to cache\n",
      "images from 11000/120752 pairs loaded to cache\n",
      "images from 12000/120752 pairs loaded to cache\n",
      "images from 13000/120752 pairs loaded to cache\n",
      "images from 14000/120752 pairs loaded to cache\n",
      "images from 15000/120752 pairs loaded to cache\n",
      "images from 16000/120752 pairs loaded to cache\n",
      "images from 17000/120752 pairs loaded to cache\n",
      "images from 18000/120752 pairs loaded to cache\n",
      "images from 19000/120752 pairs loaded to cache\n",
      "images from 20000/120752 pairs loaded to cache\n",
      "images from 21000/120752 pairs loaded to cache\n",
      "images from 22000/120752 pairs loaded to cache\n",
      "images from 23000/120752 pairs loaded to cache\n",
      "images from 24000/120752 pairs loaded to cache\n",
      "images from 25000/120752 pairs loaded to cache\n",
      "images from 26000/120752 pairs loaded to cache\n",
      "images from 27000/120752 pairs loaded to cache\n",
      "images from 28000/120752 pairs loaded to cache\n",
      "images from 29000/120752 pairs loaded to cache\n",
      "images from 30000/120752 pairs loaded to cache\n",
      "images from 31000/120752 pairs loaded to cache\n",
      "images from 32000/120752 pairs loaded to cache\n",
      "images from 33000/120752 pairs loaded to cache\n",
      "images from 34000/120752 pairs loaded to cache\n",
      "images from 35000/120752 pairs loaded to cache\n",
      "images from 36000/120752 pairs loaded to cache\n",
      "images from 37000/120752 pairs loaded to cache\n",
      "images from 38000/120752 pairs loaded to cache\n",
      "images from 39000/120752 pairs loaded to cache\n",
      "images from 40000/120752 pairs loaded to cache\n",
      "images from 41000/120752 pairs loaded to cache\n",
      "images from 42000/120752 pairs loaded to cache\n",
      "images from 43000/120752 pairs loaded to cache\n",
      "images from 44000/120752 pairs loaded to cache\n",
      "images from 45000/120752 pairs loaded to cache\n",
      "images from 46000/120752 pairs loaded to cache\n",
      "images from 47000/120752 pairs loaded to cache\n",
      "images from 48000/120752 pairs loaded to cache\n",
      "images from 49000/120752 pairs loaded to cache\n",
      "images from 50000/120752 pairs loaded to cache\n",
      "images from 51000/120752 pairs loaded to cache\n",
      "images from 52000/120752 pairs loaded to cache\n",
      "images from 53000/120752 pairs loaded to cache\n",
      "images from 54000/120752 pairs loaded to cache\n",
      "images from 55000/120752 pairs loaded to cache\n",
      "images from 56000/120752 pairs loaded to cache\n",
      "images from 57000/120752 pairs loaded to cache\n",
      "images from 58000/120752 pairs loaded to cache\n",
      "images from 59000/120752 pairs loaded to cache\n",
      "images from 60000/120752 pairs loaded to cache\n",
      "images from 61000/120752 pairs loaded to cache\n",
      "images from 62000/120752 pairs loaded to cache\n",
      "images from 63000/120752 pairs loaded to cache\n",
      "images from 64000/120752 pairs loaded to cache\n",
      "images from 65000/120752 pairs loaded to cache\n",
      "images from 66000/120752 pairs loaded to cache\n",
      "images from 67000/120752 pairs loaded to cache\n",
      "images from 68000/120752 pairs loaded to cache\n",
      "images from 69000/120752 pairs loaded to cache\n",
      "images from 70000/120752 pairs loaded to cache\n",
      "images from 71000/120752 pairs loaded to cache\n",
      "images from 72000/120752 pairs loaded to cache\n",
      "images from 73000/120752 pairs loaded to cache\n",
      "images from 74000/120752 pairs loaded to cache\n",
      "images from 75000/120752 pairs loaded to cache\n",
      "images from 76000/120752 pairs loaded to cache\n",
      "images from 77000/120752 pairs loaded to cache\n",
      "images from 78000/120752 pairs loaded to cache\n",
      "images from 79000/120752 pairs loaded to cache\n",
      "images from 80000/120752 pairs loaded to cache\n",
      "images from 81000/120752 pairs loaded to cache\n",
      "images from 82000/120752 pairs loaded to cache\n",
      "images from 83000/120752 pairs loaded to cache\n",
      "images from 84000/120752 pairs loaded to cache\n",
      "images from 85000/120752 pairs loaded to cache\n",
      "images from 86000/120752 pairs loaded to cache\n",
      "images from 87000/120752 pairs loaded to cache\n",
      "images from 88000/120752 pairs loaded to cache\n",
      "images from 89000/120752 pairs loaded to cache\n",
      "images from 90000/120752 pairs loaded to cache\n",
      "images from 91000/120752 pairs loaded to cache\n",
      "images from 92000/120752 pairs loaded to cache\n",
      "images from 93000/120752 pairs loaded to cache\n",
      "images from 94000/120752 pairs loaded to cache\n",
      "images from 95000/120752 pairs loaded to cache\n",
      "images from 96000/120752 pairs loaded to cache\n",
      "images from 97000/120752 pairs loaded to cache\n",
      "images from 98000/120752 pairs loaded to cache\n",
      "images from 99000/120752 pairs loaded to cache\n",
      "images from 100000/120752 pairs loaded to cache\n",
      "images from 101000/120752 pairs loaded to cache\n",
      "images from 102000/120752 pairs loaded to cache\n",
      "images from 103000/120752 pairs loaded to cache\n",
      "images from 104000/120752 pairs loaded to cache\n",
      "images from 105000/120752 pairs loaded to cache\n",
      "images from 106000/120752 pairs loaded to cache\n",
      "images from 107000/120752 pairs loaded to cache\n",
      "images from 108000/120752 pairs loaded to cache\n",
      "images from 109000/120752 pairs loaded to cache\n",
      "images from 110000/120752 pairs loaded to cache\n",
      "images from 111000/120752 pairs loaded to cache\n",
      "images from 112000/120752 pairs loaded to cache\n",
      "images from 113000/120752 pairs loaded to cache\n",
      "images from 114000/120752 pairs loaded to cache\n",
      "images from 115000/120752 pairs loaded to cache\n",
      "images from 116000/120752 pairs loaded to cache\n",
      "images from 117000/120752 pairs loaded to cache\n",
      "images from 118000/120752 pairs loaded to cache\n",
      "images from 119000/120752 pairs loaded to cache\n",
      "images from 120000/120752 pairs loaded to cache\n",
      "images from 120751/120752 pairs loaded to cache, COMPLETE\n"
     ]
    }
   ],
   "source": [
    "def load_image_cache(image_cache, image_filename):\n",
    "    image = plt.imread(os.path.join(IMAGE_DIR, image_filename))\n",
    "    image = imresize(image, (224, 224))\n",
    "    image = image.astype(\"float32\")\n",
    "    image = resnet50.preprocess_input(image)\n",
    "    image_cache[image_filename] = image\n",
    "    \n",
    "image_cache = {}\n",
    "num_pairs = len(triples_data)\n",
    "for i, (image_filename_l, image_filename_r, _) in enumerate(triples_data):\n",
    "    if i % 1000 == 0:\n",
    "        print(\"images from {:d}/{:d} pairs loaded to cache\".format(i, num_pairs))\n",
    "    if not image_cache.has_key(image_filename_l):\n",
    "        load_image_cache(image_cache, image_filename_l)\n",
    "    if not image_cache.has_key(image_filename_r):\n",
    "        load_image_cache(image_cache, image_filename_r)\n",
    "print(\"images from {:d}/{:d} pairs loaded to cache, COMPLETE\".format(i, num_pairs))"
   ]
  },
  {
   "cell_type": "code",
   "execution_count": 17,
   "metadata": {},
   "outputs": [
    {
     "name": "stdout",
     "output_type": "stream",
     "text": [
      "(32, 224, 224, 3) (32, 224, 224, 3) (32, 2)\n"
     ]
    }
   ],
   "source": [
    "def pair_generator(triples, image_cache, datagens, batch_size=32):\n",
    "    while True:\n",
    "        # shuffle once per batch\n",
    "        indices = np.random.permutation(np.arange(len(triples)))\n",
    "        num_batches = len(triples) // batch_size\n",
    "        for bid in range(num_batches):\n",
    "            batch_indices = indices[bid * batch_size : (bid + 1) * batch_size]\n",
    "            batch = [triples[i] for i in batch_indices]\n",
    "            X1 = np.zeros((batch_size, 224, 224, 3))\n",
    "            X2 = np.zeros((batch_size, 224, 224, 3))\n",
    "            Y = np.zeros((batch_size, 2))\n",
    "            for i, (image_filename_l, image_filename_r, label) in enumerate(batch):\n",
    "                if datagens is None or len(datagens) == 0:\n",
    "                    X1[i] = image_cache[image_filename_l]\n",
    "                    X2[i] = image_cache[image_filename_r]\n",
    "                else:\n",
    "                    X1[i] = datagens[0].random_transform(image_cache[image_filename_l])\n",
    "                    X2[i] = datagens[1].random_transform(image_cache[image_filename_r])\n",
    "                Y[i] = [1, 0] if label == 0 else [0, 1]\n",
    "            yield [X1, X2], Y\n",
    "\n",
    "\n",
    "datagen_args = dict(rotation_range=10,\n",
    "                    width_shift_range=0.2,\n",
    "                    height_shift_range=0.2,\n",
    "                    zoom_range=0.2)\n",
    "datagens = [ImageDataGenerator(**datagen_args),\n",
    "            ImageDataGenerator(**datagen_args)]\n",
    "pair_gen = pair_generator(triples_data, image_cache, datagens, 32)\n",
    "[X1, X2], Y = pair_gen.next()\n",
    "print(X1.shape, X2.shape, Y.shape)"
   ]
  },
  {
   "cell_type": "markdown",
   "metadata": {},
   "source": [
    "## Define Model\n",
    "\n",
    "The model is composed of two pretrained Resnet50 networks without their last prediction layer, connected to a merge layer that computes element-wise dot product of the two (2048,) sized vectors produced by the Resnet50. This is then fed into a 3 layer fully connected network that produces the similar / not similar prediction.\n",
    "\n",
    "The Resnet50 network weights are frozen, and the Fully Connected network weights are loaded from one trained using pre-computed image vectors and allowed to be fine-tuned."
   ]
  },
  {
   "cell_type": "code",
   "execution_count": 18,
   "metadata": {},
   "outputs": [
    {
     "name": "stdout",
     "output_type": "stream",
     "text": [
      "(10,) (10,)\n",
      "(10,)\n"
     ]
    }
   ],
   "source": [
    "# distance measure\n",
    "def cosine_distance(vecs, normalize=False):\n",
    "    x, y = vecs\n",
    "    if normalize:\n",
    "        x = K.l2_normalize(x, axis=0)\n",
    "        y = K.l2_normalize(x, axis=0)\n",
    "    return K.prod(K.stack([x, y], axis=1), axis=1)\n",
    "\n",
    "def cosine_distance_output_shape(shapes):\n",
    "    return shapes[0]\n",
    "\n",
    "vecs = [np.random.random((10,)), np.random.random((10,))]\n",
    "print(vecs[0].shape, vecs[1].shape)\n",
    "s = cosine_distance(vecs)\n",
    "print(s.shape)"
   ]
  },
  {
   "cell_type": "code",
   "execution_count": 19,
   "metadata": {},
   "outputs": [
    {
     "name": "stdout",
     "output_type": "stream",
     "text": [
      "Downloading data from https://github.com/fchollet/deep-learning-models/releases/download/v0.2/resnet50_weights_tf_dim_ordering_tf_kernels.h5\n",
      "102072320/102853048 [============================>.] - ETA: 0s"
     ]
    }
   ],
   "source": [
    "# load 2 copies of the resnet50 model\n",
    "# in case of a siamese network, the same instance of the network will be trained,\n",
    "# but in our case the network is untrainable, so we can have 2 copies\n",
    "resnet50_1 = resnet50.ResNet50(weights=\"imagenet\", include_top=True)\n",
    "resnet50_2 = resnet50.ResNet50(weights=\"imagenet\", include_top=True)"
   ]
  },
  {
   "cell_type": "code",
   "execution_count": 27,
   "metadata": {},
   "outputs": [
    {
     "name": "stdout",
     "output_type": "stream",
     "text": [
      "input_2_2_2 (None, 224, 224, 3) (None, 224, 224, 3)\n",
      "conv1_2_2 (None, 224, 224, 3) (None, 112, 112, 64)\n",
      "bn_conv1_2_2 (None, 112, 112, 64) (None, 112, 112, 64)\n",
      "activation_50_2_2 (None, 112, 112, 64) (None, 112, 112, 64)\n",
      "max_pooling2d_2_2_2 (None, 112, 112, 64) (None, 55, 55, 64)\n",
      "res2a_branch2a_2_2 (None, 55, 55, 64) (None, 55, 55, 64)\n",
      "bn2a_branch2a_2_2 (None, 55, 55, 64) (None, 55, 55, 64)\n",
      "activation_51_2_2 (None, 55, 55, 64) (None, 55, 55, 64)\n",
      "res2a_branch2b_2_2 (None, 55, 55, 64) (None, 55, 55, 64)\n",
      "bn2a_branch2b_2_2 (None, 55, 55, 64) (None, 55, 55, 64)\n",
      "activation_52_2_2 (None, 55, 55, 64) (None, 55, 55, 64)\n",
      "res2a_branch2c_2_2 (None, 55, 55, 64) (None, 55, 55, 256)\n",
      "res2a_branch1_2_2 (None, 55, 55, 64) (None, 55, 55, 256)\n",
      "bn2a_branch2c_2_2 (None, 55, 55, 256) (None, 55, 55, 256)\n",
      "bn2a_branch1_2_2 (None, 55, 55, 256) (None, 55, 55, 256)\n",
      "add_17_2_2 [(None, 55, 55, 256), (None, 55, 55, 256)] (None, 55, 55, 256)\n",
      "activation_53_2_2 (None, 55, 55, 256) (None, 55, 55, 256)\n",
      "res2b_branch2a_2_2 (None, 55, 55, 256) (None, 55, 55, 64)\n",
      "bn2b_branch2a_2_2 (None, 55, 55, 64) (None, 55, 55, 64)\n",
      "activation_54_2_2 (None, 55, 55, 64) (None, 55, 55, 64)\n",
      "res2b_branch2b_2_2 (None, 55, 55, 64) (None, 55, 55, 64)\n",
      "bn2b_branch2b_2_2 (None, 55, 55, 64) (None, 55, 55, 64)\n",
      "activation_55_2_2 (None, 55, 55, 64) (None, 55, 55, 64)\n",
      "res2b_branch2c_2_2 (None, 55, 55, 64) (None, 55, 55, 256)\n",
      "bn2b_branch2c_2_2 (None, 55, 55, 256) (None, 55, 55, 256)\n",
      "add_18_2_2 [(None, 55, 55, 256), (None, 55, 55, 256)] (None, 55, 55, 256)\n",
      "activation_56_2_2 (None, 55, 55, 256) (None, 55, 55, 256)\n",
      "res2c_branch2a_2_2 (None, 55, 55, 256) (None, 55, 55, 64)\n",
      "bn2c_branch2a_2_2 (None, 55, 55, 64) (None, 55, 55, 64)\n",
      "activation_57_2_2 (None, 55, 55, 64) (None, 55, 55, 64)\n",
      "res2c_branch2b_2_2 (None, 55, 55, 64) (None, 55, 55, 64)\n",
      "bn2c_branch2b_2_2 (None, 55, 55, 64) (None, 55, 55, 64)\n",
      "activation_58_2_2 (None, 55, 55, 64) (None, 55, 55, 64)\n",
      "res2c_branch2c_2_2 (None, 55, 55, 64) (None, 55, 55, 256)\n",
      "bn2c_branch2c_2_2 (None, 55, 55, 256) (None, 55, 55, 256)\n",
      "add_19_2_2 [(None, 55, 55, 256), (None, 55, 55, 256)] (None, 55, 55, 256)\n",
      "activation_59_2_2 (None, 55, 55, 256) (None, 55, 55, 256)\n",
      "res3a_branch2a_2_2 (None, 55, 55, 256) (None, 28, 28, 128)\n",
      "bn3a_branch2a_2_2 (None, 28, 28, 128) (None, 28, 28, 128)\n",
      "activation_60_2_2 (None, 28, 28, 128) (None, 28, 28, 128)\n",
      "res3a_branch2b_2_2 (None, 28, 28, 128) (None, 28, 28, 128)\n",
      "bn3a_branch2b_2_2 (None, 28, 28, 128) (None, 28, 28, 128)\n",
      "activation_61_2_2 (None, 28, 28, 128) (None, 28, 28, 128)\n",
      "res3a_branch2c_2_2 (None, 28, 28, 128) (None, 28, 28, 512)\n",
      "res3a_branch1_2_2 (None, 55, 55, 256) (None, 28, 28, 512)\n",
      "bn3a_branch2c_2_2 (None, 28, 28, 512) (None, 28, 28, 512)\n",
      "bn3a_branch1_2_2 (None, 28, 28, 512) (None, 28, 28, 512)\n",
      "add_20_2_2 [(None, 28, 28, 512), (None, 28, 28, 512)] (None, 28, 28, 512)\n",
      "activation_62_2_2 (None, 28, 28, 512) (None, 28, 28, 512)\n",
      "res3b_branch2a_2_2 (None, 28, 28, 512) (None, 28, 28, 128)\n",
      "bn3b_branch2a_2_2 (None, 28, 28, 128) (None, 28, 28, 128)\n",
      "activation_63_2_2 (None, 28, 28, 128) (None, 28, 28, 128)\n",
      "res3b_branch2b_2_2 (None, 28, 28, 128) (None, 28, 28, 128)\n",
      "bn3b_branch2b_2_2 (None, 28, 28, 128) (None, 28, 28, 128)\n",
      "activation_64_2_2 (None, 28, 28, 128) (None, 28, 28, 128)\n",
      "res3b_branch2c_2_2 (None, 28, 28, 128) (None, 28, 28, 512)\n",
      "bn3b_branch2c_2_2 (None, 28, 28, 512) (None, 28, 28, 512)\n",
      "add_21_2_2 [(None, 28, 28, 512), (None, 28, 28, 512)] (None, 28, 28, 512)\n",
      "activation_65_2_2 (None, 28, 28, 512) (None, 28, 28, 512)\n",
      "res3c_branch2a_2_2 (None, 28, 28, 512) (None, 28, 28, 128)\n",
      "bn3c_branch2a_2_2 (None, 28, 28, 128) (None, 28, 28, 128)\n",
      "activation_66_2_2 (None, 28, 28, 128) (None, 28, 28, 128)\n",
      "res3c_branch2b_2_2 (None, 28, 28, 128) (None, 28, 28, 128)\n",
      "bn3c_branch2b_2_2 (None, 28, 28, 128) (None, 28, 28, 128)\n",
      "activation_67_2_2 (None, 28, 28, 128) (None, 28, 28, 128)\n",
      "res3c_branch2c_2_2 (None, 28, 28, 128) (None, 28, 28, 512)\n",
      "bn3c_branch2c_2_2 (None, 28, 28, 512) (None, 28, 28, 512)\n",
      "add_22_2_2 [(None, 28, 28, 512), (None, 28, 28, 512)] (None, 28, 28, 512)\n",
      "activation_68_2_2 (None, 28, 28, 512) (None, 28, 28, 512)\n",
      "res3d_branch2a_2_2 (None, 28, 28, 512) (None, 28, 28, 128)\n",
      "bn3d_branch2a_2_2 (None, 28, 28, 128) (None, 28, 28, 128)\n",
      "activation_69_2_2 (None, 28, 28, 128) (None, 28, 28, 128)\n",
      "res3d_branch2b_2_2 (None, 28, 28, 128) (None, 28, 28, 128)\n",
      "bn3d_branch2b_2_2 (None, 28, 28, 128) (None, 28, 28, 128)\n",
      "activation_70_2_2 (None, 28, 28, 128) (None, 28, 28, 128)\n",
      "res3d_branch2c_2_2 (None, 28, 28, 128) (None, 28, 28, 512)\n",
      "bn3d_branch2c_2_2 (None, 28, 28, 512) (None, 28, 28, 512)\n",
      "add_23_2_2 [(None, 28, 28, 512), (None, 28, 28, 512)] (None, 28, 28, 512)\n",
      "activation_71_2_2 (None, 28, 28, 512) (None, 28, 28, 512)\n",
      "res4a_branch2a_2_2 (None, 28, 28, 512) (None, 14, 14, 256)\n",
      "bn4a_branch2a_2_2 (None, 14, 14, 256) (None, 14, 14, 256)\n",
      "activation_72_2_2 (None, 14, 14, 256) (None, 14, 14, 256)\n",
      "res4a_branch2b_2_2 (None, 14, 14, 256) (None, 14, 14, 256)\n",
      "bn4a_branch2b_2_2 (None, 14, 14, 256) (None, 14, 14, 256)\n",
      "activation_73_2_2 (None, 14, 14, 256) (None, 14, 14, 256)\n",
      "res4a_branch2c_2_2 (None, 14, 14, 256) (None, 14, 14, 1024)\n",
      "res4a_branch1_2_2 (None, 28, 28, 512) (None, 14, 14, 1024)\n",
      "bn4a_branch2c_2_2 (None, 14, 14, 1024) (None, 14, 14, 1024)\n",
      "bn4a_branch1_2_2 (None, 14, 14, 1024) (None, 14, 14, 1024)\n",
      "add_24_2_2 [(None, 14, 14, 1024), (None, 14, 14, 1024)] (None, 14, 14, 1024)\n",
      "activation_74_2_2 (None, 14, 14, 1024) (None, 14, 14, 1024)\n",
      "res4b_branch2a_2_2 (None, 14, 14, 1024) (None, 14, 14, 256)\n",
      "bn4b_branch2a_2_2 (None, 14, 14, 256) (None, 14, 14, 256)\n",
      "activation_75_2_2 (None, 14, 14, 256) (None, 14, 14, 256)\n",
      "res4b_branch2b_2_2 (None, 14, 14, 256) (None, 14, 14, 256)\n",
      "bn4b_branch2b_2_2 (None, 14, 14, 256) (None, 14, 14, 256)\n",
      "activation_76_2_2 (None, 14, 14, 256) (None, 14, 14, 256)\n",
      "res4b_branch2c_2_2 (None, 14, 14, 256) (None, 14, 14, 1024)\n",
      "bn4b_branch2c_2_2 (None, 14, 14, 1024) (None, 14, 14, 1024)\n",
      "add_25_2_2 [(None, 14, 14, 1024), (None, 14, 14, 1024)] (None, 14, 14, 1024)\n",
      "activation_77_2_2 (None, 14, 14, 1024) (None, 14, 14, 1024)\n",
      "res4c_branch2a_2_2 (None, 14, 14, 1024) (None, 14, 14, 256)\n",
      "bn4c_branch2a_2_2 (None, 14, 14, 256) (None, 14, 14, 256)\n",
      "activation_78_2_2 (None, 14, 14, 256) (None, 14, 14, 256)\n",
      "res4c_branch2b_2_2 (None, 14, 14, 256) (None, 14, 14, 256)\n",
      "bn4c_branch2b_2_2 (None, 14, 14, 256) (None, 14, 14, 256)\n",
      "activation_79_2_2 (None, 14, 14, 256) (None, 14, 14, 256)\n",
      "res4c_branch2c_2_2 (None, 14, 14, 256) (None, 14, 14, 1024)\n",
      "bn4c_branch2c_2_2 (None, 14, 14, 1024) (None, 14, 14, 1024)\n",
      "add_26_2_2 [(None, 14, 14, 1024), (None, 14, 14, 1024)] (None, 14, 14, 1024)\n",
      "activation_80_2_2 (None, 14, 14, 1024) (None, 14, 14, 1024)\n",
      "res4d_branch2a_2_2 (None, 14, 14, 1024) (None, 14, 14, 256)\n",
      "bn4d_branch2a_2_2 (None, 14, 14, 256) (None, 14, 14, 256)\n",
      "activation_81_2_2 (None, 14, 14, 256) (None, 14, 14, 256)\n",
      "res4d_branch2b_2_2 (None, 14, 14, 256) (None, 14, 14, 256)\n",
      "bn4d_branch2b_2_2 (None, 14, 14, 256) (None, 14, 14, 256)\n",
      "activation_82_2_2 (None, 14, 14, 256) (None, 14, 14, 256)\n",
      "res4d_branch2c_2_2 (None, 14, 14, 256) (None, 14, 14, 1024)\n",
      "bn4d_branch2c_2_2 (None, 14, 14, 1024) (None, 14, 14, 1024)\n",
      "add_27_2_2 [(None, 14, 14, 1024), (None, 14, 14, 1024)] (None, 14, 14, 1024)\n",
      "activation_83_2_2 (None, 14, 14, 1024) (None, 14, 14, 1024)\n",
      "res4e_branch2a_2_2 (None, 14, 14, 1024) (None, 14, 14, 256)\n",
      "bn4e_branch2a_2_2 (None, 14, 14, 256) (None, 14, 14, 256)\n",
      "activation_84_2_2 (None, 14, 14, 256) (None, 14, 14, 256)\n",
      "res4e_branch2b_2_2 (None, 14, 14, 256) (None, 14, 14, 256)\n",
      "bn4e_branch2b_2_2 (None, 14, 14, 256) (None, 14, 14, 256)\n",
      "activation_85_2_2 (None, 14, 14, 256) (None, 14, 14, 256)\n",
      "res4e_branch2c_2_2 (None, 14, 14, 256) (None, 14, 14, 1024)\n",
      "bn4e_branch2c_2_2 (None, 14, 14, 1024) (None, 14, 14, 1024)\n",
      "add_28_2_2 [(None, 14, 14, 1024), (None, 14, 14, 1024)] (None, 14, 14, 1024)\n",
      "activation_86_2_2 (None, 14, 14, 1024) (None, 14, 14, 1024)\n",
      "res4f_branch2a_2_2 (None, 14, 14, 1024) (None, 14, 14, 256)\n",
      "bn4f_branch2a_2_2 (None, 14, 14, 256) (None, 14, 14, 256)\n",
      "activation_87_2_2 (None, 14, 14, 256) (None, 14, 14, 256)\n",
      "res4f_branch2b_2_2 (None, 14, 14, 256) (None, 14, 14, 256)\n",
      "bn4f_branch2b_2_2 (None, 14, 14, 256) (None, 14, 14, 256)\n",
      "activation_88_2_2 (None, 14, 14, 256) (None, 14, 14, 256)\n",
      "res4f_branch2c_2_2 (None, 14, 14, 256) (None, 14, 14, 1024)\n",
      "bn4f_branch2c_2_2 (None, 14, 14, 1024) (None, 14, 14, 1024)\n",
      "add_29_2_2 [(None, 14, 14, 1024), (None, 14, 14, 1024)] (None, 14, 14, 1024)\n",
      "activation_89_2_2 (None, 14, 14, 1024) (None, 14, 14, 1024)\n",
      "res5a_branch2a_2_2 (None, 14, 14, 1024) (None, 7, 7, 512)\n",
      "bn5a_branch2a_2_2 (None, 7, 7, 512) (None, 7, 7, 512)\n",
      "activation_90_2_2 (None, 7, 7, 512) (None, 7, 7, 512)\n",
      "res5a_branch2b_2_2 (None, 7, 7, 512) (None, 7, 7, 512)\n",
      "bn5a_branch2b_2_2 (None, 7, 7, 512) (None, 7, 7, 512)\n",
      "activation_91_2_2 (None, 7, 7, 512) (None, 7, 7, 512)\n",
      "res5a_branch2c_2_2 (None, 7, 7, 512) (None, 7, 7, 2048)\n",
      "res5a_branch1_2_2 (None, 14, 14, 1024) (None, 7, 7, 2048)\n",
      "bn5a_branch2c_2_2 (None, 7, 7, 2048) (None, 7, 7, 2048)\n",
      "bn5a_branch1_2_2 (None, 7, 7, 2048) (None, 7, 7, 2048)\n",
      "add_30_2_2 [(None, 7, 7, 2048), (None, 7, 7, 2048)] (None, 7, 7, 2048)\n",
      "activation_92_2_2 (None, 7, 7, 2048) (None, 7, 7, 2048)\n",
      "res5b_branch2a_2_2 (None, 7, 7, 2048) (None, 7, 7, 512)\n",
      "bn5b_branch2a_2_2 (None, 7, 7, 512) (None, 7, 7, 512)\n",
      "activation_93_2_2 (None, 7, 7, 512) (None, 7, 7, 512)\n",
      "res5b_branch2b_2_2 (None, 7, 7, 512) (None, 7, 7, 512)\n",
      "bn5b_branch2b_2_2 (None, 7, 7, 512) (None, 7, 7, 512)\n",
      "activation_94_2_2 (None, 7, 7, 512) (None, 7, 7, 512)\n",
      "res5b_branch2c_2_2 (None, 7, 7, 512) (None, 7, 7, 2048)\n",
      "bn5b_branch2c_2_2 (None, 7, 7, 2048) (None, 7, 7, 2048)\n",
      "add_31_2_2 [(None, 7, 7, 2048), (None, 7, 7, 2048)] (None, 7, 7, 2048)\n",
      "activation_95_2_2 (None, 7, 7, 2048) (None, 7, 7, 2048)\n",
      "res5c_branch2a_2_2 (None, 7, 7, 2048) (None, 7, 7, 512)\n",
      "bn5c_branch2a_2_2 (None, 7, 7, 512) (None, 7, 7, 512)\n",
      "activation_96_2_2 (None, 7, 7, 512) (None, 7, 7, 512)\n",
      "res5c_branch2b_2_2 (None, 7, 7, 512) (None, 7, 7, 512)\n",
      "bn5c_branch2b_2_2 (None, 7, 7, 512) (None, 7, 7, 512)\n",
      "activation_97_2_2 (None, 7, 7, 512) (None, 7, 7, 512)\n",
      "res5c_branch2c_2_2 (None, 7, 7, 512) (None, 7, 7, 2048)\n",
      "bn5c_branch2c_2_2 (None, 7, 7, 2048) (None, 7, 7, 2048)\n",
      "add_32_2_2 [(None, 7, 7, 2048), (None, 7, 7, 2048)] (None, 7, 7, 2048)\n",
      "activation_98_2_2 (None, 7, 7, 2048) (None, 7, 7, 2048)\n",
      "avg_pool_2_2 (None, 7, 7, 2048) (None, 1, 1, 2048)\n",
      "flatten_2_2_2 (None, 1, 1, 2048) (None, 2048)\n",
      "fc1000_2_2 (None, 2048) (None, 1000)\n"
     ]
    }
   ],
   "source": [
    "# Here the last two layers are avg_pool and prediction as shown below:\n",
    "#    avg_pool (None, 8, 8, 2048) (None, 2048)\n",
    "#    predictions (None, 2048) (None, 1000)\n",
    "#\n",
    "for layer in resnet50_2.layers:\n",
    "     print(layer.name, layer.input_shape, layer.output_shape)"
   ]
  },
  {
   "cell_type": "code",
   "execution_count": 25,
   "metadata": {},
   "outputs": [],
   "source": [
    "# freeze weights on the resnet50 network and give each layer a unique name\n",
    "# since we will combine them into a single network\n",
    "for layer in resnet50_1.layers:\n",
    "    layer.trainable = False\n",
    "    layer.name = layer.name + \"_1\"\n",
    "for layer in resnet50_2.layers:\n",
    "    layer.trainable = False\n",
    "    layer.name = layer.name + \"_2\""
   ]
  },
  {
   "cell_type": "code",
   "execution_count": 28,
   "metadata": {},
   "outputs": [],
   "source": [
    "# outputs of the resnet50 networks, these will be connected to our head FCN\n",
    "vector_1 = resnet50_1.get_layer(\"flatten_1_1_1\").output\n",
    "vector_2 = resnet50_2.get_layer(\"flatten_2_2_2\").output"
   ]
  },
  {
   "cell_type": "code",
   "execution_count": 31,
   "metadata": {},
   "outputs": [
    {
     "name": "stdout",
     "output_type": "stream",
     "text": [
      "Tensor(\"flatten_1/Reshape:0\", shape=(?, ?), dtype=float32)\n"
     ]
    }
   ],
   "source": [
    "print(vector_1)"
   ]
  },
  {
   "cell_type": "code",
   "execution_count": 32,
   "metadata": {},
   "outputs": [
    {
     "name": "stdout",
     "output_type": "stream",
     "text": [
      "input_3 (None, 2048) (None, 2048)\n",
      "input_4 (None, 2048) (None, 2048)\n",
      "lambda_2 [(None, 2048), (None, 2048)] (None, 2048)\n",
      "dense_4 (None, 2048) (None, 512)\n",
      "dropout_3 (None, 512) (None, 512)\n",
      "activation_4 (None, 512) (None, 512)\n",
      "dense_5 (None, 512) (None, 128)\n",
      "dropout_4 (None, 128) (None, 128)\n",
      "activation_5 (None, 128) (None, 128)\n",
      "dense_6 (None, 128) (None, 2)\n",
      "activation_6 (None, 2) (None, 2)\n"
     ]
    }
   ],
   "source": [
    "# load the pretrained similarity head network. This has been trained to predict similar\n",
    "# images using image vectors\n",
    "sim_head = load_model(os.path.join(\"/models_trained\", \"resnet50_cropped-dot-final.h5\"))\n",
    "for layer in sim_head.layers:\n",
    "    print(layer.name, layer.input_shape, layer.output_shape)"
   ]
  },
  {
   "cell_type": "code",
   "execution_count": 33,
   "metadata": {},
   "outputs": [],
   "source": [
    "# attach output of the resnet50 networks to the similarity head\n",
    "# output is a prediction tensor\n",
    "prediction = sim_head([vector_1, vector_2])"
   ]
  },
  {
   "cell_type": "code",
   "execution_count": 34,
   "metadata": {},
   "outputs": [],
   "source": [
    "# declare a model that takes image inputs on its truncated resnet50 subnetworks\n",
    "# and returns the prediction as the output. Inputs are Input(shape=(224, 224, 3))\n",
    "model = Model(inputs=[resnet50_1.input, resnet50_2.input], outputs=prediction)\n",
    "\n",
    "model.compile(optimizer=\"adam\", loss=\"categorical_crossentropy\", metrics=[\"accuracy\"])"
   ]
  },
  {
   "cell_type": "markdown",
   "metadata": {},
   "source": [
    "## Train Network"
   ]
  },
  {
   "cell_type": "code",
   "execution_count": 35,
   "metadata": {},
   "outputs": [],
   "source": [
    "BEST_MODEL_FILE = os.path.join(\"/models_trained\", \"resnet50_cropped-full-net-dot-best.h5\")\n",
    "FINAL_MODEL_FILE = os.path.join(\"/models_trained\", \"resnet50_cropped-full-net-dot-final.h5\")"
   ]
  },
  {
   "cell_type": "code",
   "execution_count": 38,
   "metadata": {},
   "outputs": [
    {
     "name": "stdout",
     "output_type": "stream",
     "text": [
      "106502 11834 2416\n"
     ]
    }
   ],
   "source": [
    "triples_data_trainval, triples_data_test = train_test_split(triples_data, train_size=0.98)\n",
    "triples_data_train, triples_data_val = train_test_split(triples_data_trainval, train_size=0.9)\n",
    "print(len(triples_data_train), len(triples_data_val), len(triples_data_test))"
   ]
  },
  {
   "cell_type": "code",
   "execution_count": 39,
   "metadata": {},
   "outputs": [],
   "source": [
    "datagen_args = dict(rotation_range=10,\n",
    "                    width_shift_range=0.2,\n",
    "                    height_shift_range=0.2,\n",
    "                    zoom_range=0.2)\n",
    "datagens = [ImageDataGenerator(**datagen_args),\n",
    "            ImageDataGenerator(**datagen_args)]\n",
    "train_pair_gen = pair_generator(triples_data_train, image_cache, datagens, BATCH_SIZE)\n",
    "val_pair_gen = pair_generator(triples_data_val, image_cache, None, BATCH_SIZE)"
   ]
  },
  {
   "cell_type": "code",
   "execution_count": 40,
   "metadata": {},
   "outputs": [],
   "source": [
    "num_train_steps = len(triples_data_train) // BATCH_SIZE\n",
    "num_val_steps = len(triples_data_val) // BATCH_SIZE"
   ]
  },
  {
   "cell_type": "code",
   "execution_count": 41,
   "metadata": {},
   "outputs": [
    {
     "name": "stdout",
     "output_type": "stream",
     "text": [
      "Epoch 1/20\n",
      "   8/3328 [..............................] - ETA: 74137s - loss: 2.1483 - acc: 0.6211"
     ]
    },
    {
     "ename": "KeyboardInterrupt",
     "evalue": "",
     "output_type": "error",
     "traceback": [
      "\u001b[0;31m\u001b[0m",
      "\u001b[0;31mKeyboardInterrupt\u001b[0mTraceback (most recent call last)",
      "\u001b[0;32m<ipython-input-41-bd67b02e3257>\u001b[0m in \u001b[0;36m<module>\u001b[0;34m()\u001b[0m\n\u001b[1;32m      5\u001b[0m                              \u001b[0mvalidation_data\u001b[0m\u001b[0;34m=\u001b[0m\u001b[0mval_pair_gen\u001b[0m\u001b[0;34m,\u001b[0m\u001b[0;34m\u001b[0m\u001b[0m\n\u001b[1;32m      6\u001b[0m                              \u001b[0mvalidation_steps\u001b[0m\u001b[0;34m=\u001b[0m\u001b[0mnum_val_steps\u001b[0m\u001b[0;34m,\u001b[0m\u001b[0;34m\u001b[0m\u001b[0m\n\u001b[0;32m----> 7\u001b[0;31m                              callbacks=[checkpoint])\n\u001b[0m",
      "\u001b[0;32m/usr/local/lib/python2.7/site-packages/keras/legacy/interfaces.pyc\u001b[0m in \u001b[0;36mwrapper\u001b[0;34m(*args, **kwargs)\u001b[0m\n\u001b[1;32m     85\u001b[0m                 warnings.warn('Update your `' + object_name +\n\u001b[1;32m     86\u001b[0m                               '` call to the Keras 2 API: ' + signature, stacklevel=2)\n\u001b[0;32m---> 87\u001b[0;31m             \u001b[0;32mreturn\u001b[0m \u001b[0mfunc\u001b[0m\u001b[0;34m(\u001b[0m\u001b[0;34m*\u001b[0m\u001b[0margs\u001b[0m\u001b[0;34m,\u001b[0m \u001b[0;34m**\u001b[0m\u001b[0mkwargs\u001b[0m\u001b[0;34m)\u001b[0m\u001b[0;34m\u001b[0m\u001b[0m\n\u001b[0m\u001b[1;32m     88\u001b[0m         \u001b[0mwrapper\u001b[0m\u001b[0;34m.\u001b[0m\u001b[0m_original_function\u001b[0m \u001b[0;34m=\u001b[0m \u001b[0mfunc\u001b[0m\u001b[0;34m\u001b[0m\u001b[0m\n\u001b[1;32m     89\u001b[0m         \u001b[0;32mreturn\u001b[0m \u001b[0mwrapper\u001b[0m\u001b[0;34m\u001b[0m\u001b[0m\n",
      "\u001b[0;32m/usr/local/lib/python2.7/site-packages/keras/engine/training.pyc\u001b[0m in \u001b[0;36mfit_generator\u001b[0;34m(self, generator, steps_per_epoch, epochs, verbose, callbacks, validation_data, validation_steps, class_weight, max_queue_size, workers, use_multiprocessing, shuffle, initial_epoch)\u001b[0m\n\u001b[1;32m   2040\u001b[0m                     outs = self.train_on_batch(x, y,\n\u001b[1;32m   2041\u001b[0m                                                \u001b[0msample_weight\u001b[0m\u001b[0;34m=\u001b[0m\u001b[0msample_weight\u001b[0m\u001b[0;34m,\u001b[0m\u001b[0;34m\u001b[0m\u001b[0m\n\u001b[0;32m-> 2042\u001b[0;31m                                                class_weight=class_weight)\n\u001b[0m\u001b[1;32m   2043\u001b[0m \u001b[0;34m\u001b[0m\u001b[0m\n\u001b[1;32m   2044\u001b[0m                     \u001b[0;32mif\u001b[0m \u001b[0;32mnot\u001b[0m \u001b[0misinstance\u001b[0m\u001b[0;34m(\u001b[0m\u001b[0mouts\u001b[0m\u001b[0;34m,\u001b[0m \u001b[0mlist\u001b[0m\u001b[0;34m)\u001b[0m\u001b[0;34m:\u001b[0m\u001b[0;34m\u001b[0m\u001b[0m\n",
      "\u001b[0;32m/usr/local/lib/python2.7/site-packages/keras/engine/training.pyc\u001b[0m in \u001b[0;36mtrain_on_batch\u001b[0;34m(self, x, y, sample_weight, class_weight)\u001b[0m\n\u001b[1;32m   1760\u001b[0m             \u001b[0mins\u001b[0m \u001b[0;34m=\u001b[0m \u001b[0mx\u001b[0m \u001b[0;34m+\u001b[0m \u001b[0my\u001b[0m \u001b[0;34m+\u001b[0m \u001b[0msample_weights\u001b[0m\u001b[0;34m\u001b[0m\u001b[0m\n\u001b[1;32m   1761\u001b[0m         \u001b[0mself\u001b[0m\u001b[0;34m.\u001b[0m\u001b[0m_make_train_function\u001b[0m\u001b[0;34m(\u001b[0m\u001b[0;34m)\u001b[0m\u001b[0;34m\u001b[0m\u001b[0m\n\u001b[0;32m-> 1762\u001b[0;31m         \u001b[0moutputs\u001b[0m \u001b[0;34m=\u001b[0m \u001b[0mself\u001b[0m\u001b[0;34m.\u001b[0m\u001b[0mtrain_function\u001b[0m\u001b[0;34m(\u001b[0m\u001b[0mins\u001b[0m\u001b[0;34m)\u001b[0m\u001b[0;34m\u001b[0m\u001b[0m\n\u001b[0m\u001b[1;32m   1763\u001b[0m         \u001b[0;32mif\u001b[0m \u001b[0mlen\u001b[0m\u001b[0;34m(\u001b[0m\u001b[0moutputs\u001b[0m\u001b[0;34m)\u001b[0m \u001b[0;34m==\u001b[0m \u001b[0;36m1\u001b[0m\u001b[0;34m:\u001b[0m\u001b[0;34m\u001b[0m\u001b[0m\n\u001b[1;32m   1764\u001b[0m             \u001b[0;32mreturn\u001b[0m \u001b[0moutputs\u001b[0m\u001b[0;34m[\u001b[0m\u001b[0;36m0\u001b[0m\u001b[0;34m]\u001b[0m\u001b[0;34m\u001b[0m\u001b[0m\n",
      "\u001b[0;32m/usr/local/lib/python2.7/site-packages/keras/backend/tensorflow_backend.pyc\u001b[0m in \u001b[0;36m__call__\u001b[0;34m(self, inputs)\u001b[0m\n\u001b[1;32m   2271\u001b[0m         updated = session.run(self.outputs + [self.updates_op],\n\u001b[1;32m   2272\u001b[0m                               \u001b[0mfeed_dict\u001b[0m\u001b[0;34m=\u001b[0m\u001b[0mfeed_dict\u001b[0m\u001b[0;34m,\u001b[0m\u001b[0;34m\u001b[0m\u001b[0m\n\u001b[0;32m-> 2273\u001b[0;31m                               **self.session_kwargs)\n\u001b[0m\u001b[1;32m   2274\u001b[0m         \u001b[0;32mreturn\u001b[0m \u001b[0mupdated\u001b[0m\u001b[0;34m[\u001b[0m\u001b[0;34m:\u001b[0m\u001b[0mlen\u001b[0m\u001b[0;34m(\u001b[0m\u001b[0mself\u001b[0m\u001b[0;34m.\u001b[0m\u001b[0moutputs\u001b[0m\u001b[0;34m)\u001b[0m\u001b[0;34m]\u001b[0m\u001b[0;34m\u001b[0m\u001b[0m\n\u001b[1;32m   2275\u001b[0m \u001b[0;34m\u001b[0m\u001b[0m\n",
      "\u001b[0;32m/usr/local/lib/python2.7/site-packages/tensorflow/python/client/session.pyc\u001b[0m in \u001b[0;36mrun\u001b[0;34m(self, fetches, feed_dict, options, run_metadata)\u001b[0m\n\u001b[1;32m    887\u001b[0m     \u001b[0;32mtry\u001b[0m\u001b[0;34m:\u001b[0m\u001b[0;34m\u001b[0m\u001b[0m\n\u001b[1;32m    888\u001b[0m       result = self._run(None, fetches, feed_dict, options_ptr,\n\u001b[0;32m--> 889\u001b[0;31m                          run_metadata_ptr)\n\u001b[0m\u001b[1;32m    890\u001b[0m       \u001b[0;32mif\u001b[0m \u001b[0mrun_metadata\u001b[0m\u001b[0;34m:\u001b[0m\u001b[0;34m\u001b[0m\u001b[0m\n\u001b[1;32m    891\u001b[0m         \u001b[0mproto_data\u001b[0m \u001b[0;34m=\u001b[0m \u001b[0mtf_session\u001b[0m\u001b[0;34m.\u001b[0m\u001b[0mTF_GetBuffer\u001b[0m\u001b[0;34m(\u001b[0m\u001b[0mrun_metadata_ptr\u001b[0m\u001b[0;34m)\u001b[0m\u001b[0;34m\u001b[0m\u001b[0m\n",
      "\u001b[0;32m/usr/local/lib/python2.7/site-packages/tensorflow/python/client/session.pyc\u001b[0m in \u001b[0;36m_run\u001b[0;34m(self, handle, fetches, feed_dict, options, run_metadata)\u001b[0m\n\u001b[1;32m   1118\u001b[0m     \u001b[0;32mif\u001b[0m \u001b[0mfinal_fetches\u001b[0m \u001b[0;32mor\u001b[0m \u001b[0mfinal_targets\u001b[0m \u001b[0;32mor\u001b[0m \u001b[0;34m(\u001b[0m\u001b[0mhandle\u001b[0m \u001b[0;32mand\u001b[0m \u001b[0mfeed_dict_tensor\u001b[0m\u001b[0;34m)\u001b[0m\u001b[0;34m:\u001b[0m\u001b[0;34m\u001b[0m\u001b[0m\n\u001b[1;32m   1119\u001b[0m       results = self._do_run(handle, final_targets, final_fetches,\n\u001b[0;32m-> 1120\u001b[0;31m                              feed_dict_tensor, options, run_metadata)\n\u001b[0m\u001b[1;32m   1121\u001b[0m     \u001b[0;32melse\u001b[0m\u001b[0;34m:\u001b[0m\u001b[0;34m\u001b[0m\u001b[0m\n\u001b[1;32m   1122\u001b[0m       \u001b[0mresults\u001b[0m \u001b[0;34m=\u001b[0m \u001b[0;34m[\u001b[0m\u001b[0;34m]\u001b[0m\u001b[0;34m\u001b[0m\u001b[0m\n",
      "\u001b[0;32m/usr/local/lib/python2.7/site-packages/tensorflow/python/client/session.pyc\u001b[0m in \u001b[0;36m_do_run\u001b[0;34m(self, handle, target_list, fetch_list, feed_dict, options, run_metadata)\u001b[0m\n\u001b[1;32m   1315\u001b[0m     \u001b[0;32mif\u001b[0m \u001b[0mhandle\u001b[0m \u001b[0;32mis\u001b[0m \u001b[0mNone\u001b[0m\u001b[0;34m:\u001b[0m\u001b[0;34m\u001b[0m\u001b[0m\n\u001b[1;32m   1316\u001b[0m       return self._do_call(_run_fn, self._session, feeds, fetches, targets,\n\u001b[0;32m-> 1317\u001b[0;31m                            options, run_metadata)\n\u001b[0m\u001b[1;32m   1318\u001b[0m     \u001b[0;32melse\u001b[0m\u001b[0;34m:\u001b[0m\u001b[0;34m\u001b[0m\u001b[0m\n\u001b[1;32m   1319\u001b[0m       \u001b[0;32mreturn\u001b[0m \u001b[0mself\u001b[0m\u001b[0;34m.\u001b[0m\u001b[0m_do_call\u001b[0m\u001b[0;34m(\u001b[0m\u001b[0m_prun_fn\u001b[0m\u001b[0;34m,\u001b[0m \u001b[0mself\u001b[0m\u001b[0;34m.\u001b[0m\u001b[0m_session\u001b[0m\u001b[0;34m,\u001b[0m \u001b[0mhandle\u001b[0m\u001b[0;34m,\u001b[0m \u001b[0mfeeds\u001b[0m\u001b[0;34m,\u001b[0m \u001b[0mfetches\u001b[0m\u001b[0;34m)\u001b[0m\u001b[0;34m\u001b[0m\u001b[0m\n",
      "\u001b[0;32m/usr/local/lib/python2.7/site-packages/tensorflow/python/client/session.pyc\u001b[0m in \u001b[0;36m_do_call\u001b[0;34m(self, fn, *args)\u001b[0m\n\u001b[1;32m   1321\u001b[0m   \u001b[0;32mdef\u001b[0m \u001b[0m_do_call\u001b[0m\u001b[0;34m(\u001b[0m\u001b[0mself\u001b[0m\u001b[0;34m,\u001b[0m \u001b[0mfn\u001b[0m\u001b[0;34m,\u001b[0m \u001b[0;34m*\u001b[0m\u001b[0margs\u001b[0m\u001b[0;34m)\u001b[0m\u001b[0;34m:\u001b[0m\u001b[0;34m\u001b[0m\u001b[0m\n\u001b[1;32m   1322\u001b[0m     \u001b[0;32mtry\u001b[0m\u001b[0;34m:\u001b[0m\u001b[0;34m\u001b[0m\u001b[0m\n\u001b[0;32m-> 1323\u001b[0;31m       \u001b[0;32mreturn\u001b[0m \u001b[0mfn\u001b[0m\u001b[0;34m(\u001b[0m\u001b[0;34m*\u001b[0m\u001b[0margs\u001b[0m\u001b[0;34m)\u001b[0m\u001b[0;34m\u001b[0m\u001b[0m\n\u001b[0m\u001b[1;32m   1324\u001b[0m     \u001b[0;32mexcept\u001b[0m \u001b[0merrors\u001b[0m\u001b[0;34m.\u001b[0m\u001b[0mOpError\u001b[0m \u001b[0;32mas\u001b[0m \u001b[0me\u001b[0m\u001b[0;34m:\u001b[0m\u001b[0;34m\u001b[0m\u001b[0m\n\u001b[1;32m   1325\u001b[0m       \u001b[0mmessage\u001b[0m \u001b[0;34m=\u001b[0m \u001b[0mcompat\u001b[0m\u001b[0;34m.\u001b[0m\u001b[0mas_text\u001b[0m\u001b[0;34m(\u001b[0m\u001b[0me\u001b[0m\u001b[0;34m.\u001b[0m\u001b[0mmessage\u001b[0m\u001b[0;34m)\u001b[0m\u001b[0;34m\u001b[0m\u001b[0m\n",
      "\u001b[0;32m/usr/local/lib/python2.7/site-packages/tensorflow/python/client/session.pyc\u001b[0m in \u001b[0;36m_run_fn\u001b[0;34m(session, feed_dict, fetch_list, target_list, options, run_metadata)\u001b[0m\n\u001b[1;32m   1300\u001b[0m           return tf_session.TF_Run(session, options,\n\u001b[1;32m   1301\u001b[0m                                    \u001b[0mfeed_dict\u001b[0m\u001b[0;34m,\u001b[0m \u001b[0mfetch_list\u001b[0m\u001b[0;34m,\u001b[0m \u001b[0mtarget_list\u001b[0m\u001b[0;34m,\u001b[0m\u001b[0;34m\u001b[0m\u001b[0m\n\u001b[0;32m-> 1302\u001b[0;31m                                    status, run_metadata)\n\u001b[0m\u001b[1;32m   1303\u001b[0m \u001b[0;34m\u001b[0m\u001b[0m\n\u001b[1;32m   1304\u001b[0m     \u001b[0;32mdef\u001b[0m \u001b[0m_prun_fn\u001b[0m\u001b[0;34m(\u001b[0m\u001b[0msession\u001b[0m\u001b[0;34m,\u001b[0m \u001b[0mhandle\u001b[0m\u001b[0;34m,\u001b[0m \u001b[0mfeed_dict\u001b[0m\u001b[0;34m,\u001b[0m \u001b[0mfetch_list\u001b[0m\u001b[0;34m)\u001b[0m\u001b[0;34m:\u001b[0m\u001b[0;34m\u001b[0m\u001b[0m\n",
      "\u001b[0;31mKeyboardInterrupt\u001b[0m: "
     ]
    }
   ],
   "source": [
    "checkpoint = ModelCheckpoint(filepath=BEST_MODEL_FILE, save_best_only=True)\n",
    "history = model.fit_generator(train_pair_gen, \n",
    "                             steps_per_epoch=num_train_steps,\n",
    "                             epochs=NUM_EPOCHS,\n",
    "                             validation_data=val_pair_gen,\n",
    "                             validation_steps=num_val_steps,\n",
    "                             callbacks=[checkpoint])"
   ]
  },
  {
   "cell_type": "code",
   "execution_count": 19,
   "metadata": {},
   "outputs": [
    {
     "data": {
      "image/png": "[encoded data removed]",
      "text/plain": [
       "<matplotlib.figure.Figure at 0x7fced4824590>"
      ]
     },
     "metadata": {},
     "output_type": "display_data"
    }
   ],
   "source": [
    "plt.subplot(211)\n",
    "plt.title(\"Accuracy\")\n",
    "plt.plot(history.history[\"acc\"], color=\"blue\", label=\"train\")\n",
    "plt.plot(history.history[\"val_acc\"], color=\"red\", label=\"validation\")\n",
    "plt.legend(loc=\"best\")\n",
    "\n",
    "plt.subplot(212)\n",
    "plt.title(\"Loss\")\n",
    "plt.plot(history.history[\"loss\"], color=\"blue\", label=\"train\")\n",
    "plt.plot(history.history[\"val_loss\"], color=\"red\", label=\"validation\")\n",
    "plt.legend(loc=\"best\")\n",
    "\n",
    "plt.tight_layout()\n",
    "plt.show()"
   ]
  },
  {
   "cell_type": "code",
   "execution_count": 20,
   "metadata": {
    "collapsed": true
   },
   "outputs": [],
   "source": [
    "model.save(FINAL_MODEL_FILE, overwrite=True)"
   ]
  },
  {
   "cell_type": "markdown",
   "metadata": {},
   "source": [
    "## Predictions"
   ]
  },
  {
   "cell_type": "code",
   "execution_count": 21,
   "metadata": {},
   "outputs": [
    {
     "name": "stdout",
     "output_type": "stream",
     "text": [
      "==== Evaluation Results: final model on test set ====\n",
      "Accuracy Score: 0.881\n",
      "Confusion Matrix\n",
      "[[380  60]\n",
      " [ 39 353]]\n",
      "==== Evaluation Results: best model on test set ====\n",
      "Accuracy Score: 0.880\n",
      "Confusion Matrix\n",
      "[[372  62]\n",
      " [ 38 360]]\n"
     ]
    }
   ],
   "source": [
    "def evaluate_model(model):\n",
    "    ytest, ytest_ = [], []\n",
    "    test_pair_gen = pair_generator(triples_data_test, image_cache, None, BATCH_SIZE)\n",
    "    num_test_steps = len(triples_data_test) // BATCH_SIZE\n",
    "    curr_test_steps = 0\n",
    "    for [X1test, X2test], Ytest in test_pair_gen:\n",
    "        if curr_test_steps > num_test_steps:\n",
    "            break\n",
    "        Ytest_ = model.predict([X1test, X2test])\n",
    "        ytest.extend(np.argmax(Ytest, axis=1).tolist())\n",
    "        ytest_.extend(np.argmax(Ytest_, axis=1).tolist())\n",
    "        curr_test_steps += 1\n",
    "    acc = accuracy_score(ytest, ytest_)\n",
    "    cm = confusion_matrix(ytest, ytest_)\n",
    "    return acc, cm\n",
    "\n",
    "print(\"==== Evaluation Results: final model on test set ====\")\n",
    "final_model = load_model(FINAL_MODEL_FILE)\n",
    "acc, cm = evaluate_model(final_model)\n",
    "print(\"Accuracy Score: {:.3f}\".format(acc))\n",
    "print(\"Confusion Matrix\")\n",
    "print(cm)\n",
    "\n",
    "print(\"==== Evaluation Results: best model on test set ====\")\n",
    "best_model = load_model(BEST_MODEL_FILE)\n",
    "acc, cm = evaluate_model(best_model)\n",
    "print(\"Accuracy Score: {:.3f}\".format(acc))\n",
    "print(\"Confusion Matrix\")\n",
    "print(cm)"
   ]
  },
  {
   "cell_type": "code",
   "execution_count": null,
   "metadata": {
    "collapsed": true
   },
   "outputs": [],
   "source": []
  }
 ],
 "metadata": {
  "anaconda-cloud": {},
  "kernelspec": {
   "display_name": "Python 2",
   "language": "python",
   "name": "python2"
  },
  "language_info": {
   "codemirror_mode": {
    "name": "ipython",
    "version": 2
   },
   "file_extension": ".py",
   "mimetype": "text/x-python",
   "name": "python",
   "nbconvert_exporter": "python",
   "pygments_lexer": "ipython2",
   "version": "2.7.13"
  }
 },
 "nbformat": 4,
 "nbformat_minor": 1
}
